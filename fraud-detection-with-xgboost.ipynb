{
 "cells": [
  {
   "cell_type": "markdown",
   "id": "89a2e179",
   "metadata": {
    "papermill": {
     "duration": 0.006265,
     "end_time": "2023-10-31T03:59:59.354038",
     "exception": false,
     "start_time": "2023-10-31T03:59:59.347773",
     "status": "completed"
    },
    "tags": []
   },
   "source": [
    "## Introduction \n",
    "\n",
    "In this notebook, we will train and tune a xgboost classification model. The goal is to predict which of the transactions are fraudulent based on some numerical features. Since the dataset is highly imbalanced, we will use the *area under the precision recall curve* as the main metric to evaulate the quality of the models. \n",
    "\n",
    "The hyperparameter tuning will be performed through Bayesian optimization via the `BoTorchSampler` API in optuna. This API requires the `botorch` library to be installed."
   ]
  },
  {
   "cell_type": "code",
   "execution_count": 1,
   "id": "d3d5b8cd",
   "metadata": {
    "_kg_hide-output": true,
    "execution": {
     "iopub.execute_input": "2023-10-31T03:59:59.367077Z",
     "iopub.status.busy": "2023-10-31T03:59:59.366712Z",
     "iopub.status.idle": "2023-10-31T04:00:12.153983Z",
     "shell.execute_reply": "2023-10-31T04:00:12.152747Z"
    },
    "papermill": {
     "duration": 12.796944,
     "end_time": "2023-10-31T04:00:12.156697",
     "exception": false,
     "start_time": "2023-10-31T03:59:59.359753",
     "status": "completed"
    },
    "tags": []
   },
   "outputs": [
    {
     "name": "stdout",
     "output_type": "stream",
     "text": [
      "Collecting botorch\r\n",
      "  Downloading botorch-0.9.2-py3-none-any.whl (567 kB)\r\n",
      "\u001b[2K     \u001b[90m━━━━━━━━━━━━━━━━━━━━━━━━━━━━━━━━━━━━━━\u001b[0m \u001b[32m567.8/567.8 kB\u001b[0m \u001b[31m11.2 MB/s\u001b[0m eta \u001b[36m0:00:00\u001b[0m\r\n",
      "\u001b[?25hRequirement already satisfied: multipledispatch in /opt/conda/lib/python3.10/site-packages (from botorch) (1.0.0)\r\n",
      "Requirement already satisfied: scipy in /opt/conda/lib/python3.10/site-packages (from botorch) (1.11.2)\r\n",
      "Requirement already satisfied: torch>=1.13.1 in /opt/conda/lib/python3.10/site-packages (from botorch) (2.0.0+cpu)\r\n",
      "Collecting pyro-ppl>=1.8.4 (from botorch)\r\n",
      "  Downloading pyro_ppl-1.8.6-py3-none-any.whl (732 kB)\r\n",
      "\u001b[2K     \u001b[90m━━━━━━━━━━━━━━━━━━━━━━━━━━━━━━━━━━━━━━\u001b[0m \u001b[32m732.8/732.8 kB\u001b[0m \u001b[31m46.5 MB/s\u001b[0m eta \u001b[36m0:00:00\u001b[0m\r\n",
      "\u001b[?25hCollecting gpytorch==1.11 (from botorch)\r\n",
      "  Downloading gpytorch-1.11-py3-none-any.whl (266 kB)\r\n",
      "\u001b[2K     \u001b[90m━━━━━━━━━━━━━━━━━━━━━━━━━━━━━━━━━━━━━━\u001b[0m \u001b[32m266.1/266.1 kB\u001b[0m \u001b[31m22.8 MB/s\u001b[0m eta \u001b[36m0:00:00\u001b[0m\r\n",
      "\u001b[?25hCollecting linear-operator==0.5.1 (from botorch)\r\n",
      "  Downloading linear_operator-0.5.1-py3-none-any.whl (174 kB)\r\n",
      "\u001b[2K     \u001b[90m━━━━━━━━━━━━━━━━━━━━━━━━━━━━━━━━━━━━━━\u001b[0m \u001b[32m174.5/174.5 kB\u001b[0m \u001b[31m14.0 MB/s\u001b[0m eta \u001b[36m0:00:00\u001b[0m\r\n",
      "\u001b[?25hRequirement already satisfied: scikit-learn in /opt/conda/lib/python3.10/site-packages (from gpytorch==1.11->botorch) (1.2.2)\r\n",
      "Collecting jaxtyping>=0.2.9 (from linear-operator==0.5.1->botorch)\r\n",
      "  Downloading jaxtyping-0.2.23-py3-none-any.whl (29 kB)\r\n",
      "Requirement already satisfied: typeguard~=2.13.3 in /opt/conda/lib/python3.10/site-packages (from linear-operator==0.5.1->botorch) (2.13.3)\r\n",
      "Requirement already satisfied: numpy>=1.7 in /opt/conda/lib/python3.10/site-packages (from pyro-ppl>=1.8.4->botorch) (1.23.5)\r\n",
      "Requirement already satisfied: opt-einsum>=2.3.2 in /opt/conda/lib/python3.10/site-packages (from pyro-ppl>=1.8.4->botorch) (3.3.0)\r\n",
      "Collecting pyro-api>=0.1.1 (from pyro-ppl>=1.8.4->botorch)\r\n",
      "  Downloading pyro_api-0.1.2-py3-none-any.whl (11 kB)\r\n",
      "Requirement already satisfied: tqdm>=4.36 in /opt/conda/lib/python3.10/site-packages (from pyro-ppl>=1.8.4->botorch) (4.66.1)\r\n",
      "Requirement already satisfied: filelock in /opt/conda/lib/python3.10/site-packages (from torch>=1.13.1->botorch) (3.12.2)\r\n",
      "Requirement already satisfied: typing-extensions in /opt/conda/lib/python3.10/site-packages (from torch>=1.13.1->botorch) (4.6.3)\r\n",
      "Requirement already satisfied: sympy in /opt/conda/lib/python3.10/site-packages (from torch>=1.13.1->botorch) (1.12)\r\n",
      "Requirement already satisfied: networkx in /opt/conda/lib/python3.10/site-packages (from torch>=1.13.1->botorch) (3.1)\r\n",
      "Requirement already satisfied: jinja2 in /opt/conda/lib/python3.10/site-packages (from torch>=1.13.1->botorch) (3.1.2)\r\n",
      "Requirement already satisfied: MarkupSafe>=2.0 in /opt/conda/lib/python3.10/site-packages (from jinja2->torch>=1.13.1->botorch) (2.1.3)\r\n",
      "Requirement already satisfied: joblib>=1.1.1 in /opt/conda/lib/python3.10/site-packages (from scikit-learn->gpytorch==1.11->botorch) (1.3.2)\r\n",
      "Requirement already satisfied: threadpoolctl>=2.0.0 in /opt/conda/lib/python3.10/site-packages (from scikit-learn->gpytorch==1.11->botorch) (3.1.0)\r\n",
      "Requirement already satisfied: mpmath>=0.19 in /opt/conda/lib/python3.10/site-packages (from sympy->torch>=1.13.1->botorch) (1.3.0)\r\n",
      "Installing collected packages: pyro-api, jaxtyping, pyro-ppl, linear-operator, gpytorch, botorch\r\n",
      "Successfully installed botorch-0.9.2 gpytorch-1.11 jaxtyping-0.2.23 linear-operator-0.5.1 pyro-api-0.1.2 pyro-ppl-1.8.6\r\n"
     ]
    }
   ],
   "source": [
    "!pip install botorch"
   ]
  },
  {
   "cell_type": "code",
   "execution_count": 2,
   "id": "42eb0a5a",
   "metadata": {
    "_cell_guid": "b1076dfc-b9ad-4769-8c92-a6c4dae69d19",
    "_kg_hide-output": false,
    "_uuid": "8f2839f25d086af736a60e9eeb907d3b93b6e0e5",
    "execution": {
     "iopub.execute_input": "2023-10-31T04:00:12.172481Z",
     "iopub.status.busy": "2023-10-31T04:00:12.171744Z",
     "iopub.status.idle": "2023-10-31T04:00:19.892354Z",
     "shell.execute_reply": "2023-10-31T04:00:19.891289Z"
    },
    "papermill": {
     "duration": 7.731136,
     "end_time": "2023-10-31T04:00:19.894740",
     "exception": false,
     "start_time": "2023-10-31T04:00:12.163604",
     "status": "completed"
    },
    "tags": []
   },
   "outputs": [],
   "source": [
    "import os\n",
    "import numpy as np\n",
    "import pandas as pd\n",
    "import matplotlib.pyplot as plt\n",
    "import seaborn as sns\n",
    "\n",
    "from xgboost import XGBClassifier\n",
    "\n",
    "from sklearn.model_selection import train_test_split, StratifiedKFold\n",
    "from sklearn.metrics import confusion_matrix, precision_recall_curve, auc\n",
    "\n",
    "import optuna\n",
    "from optuna.integration.botorch import BoTorchSampler, qei_candidates_func\n",
    "import joblib\n",
    "\n",
    "from typing import Tuple, Optional, Dict\n",
    "\n",
    "plt.style.use('ggplot')\n",
    "plt.rcParams.update(**{'figure.dpi': 150})\n"
   ]
  },
  {
   "cell_type": "markdown",
   "id": "8d37214d",
   "metadata": {
    "papermill": {
     "duration": 0.006316,
     "end_time": "2023-10-31T04:00:19.908023",
     "exception": false,
     "start_time": "2023-10-31T04:00:19.901707",
     "status": "completed"
    },
    "tags": []
   },
   "source": [
    "## Loading the data"
   ]
  },
  {
   "cell_type": "code",
   "execution_count": 3,
   "id": "ada8dc37",
   "metadata": {
    "execution": {
     "iopub.execute_input": "2023-10-31T04:00:19.923252Z",
     "iopub.status.busy": "2023-10-31T04:00:19.922652Z",
     "iopub.status.idle": "2023-10-31T04:00:23.203970Z",
     "shell.execute_reply": "2023-10-31T04:00:23.202933Z"
    },
    "papermill": {
     "duration": 3.291632,
     "end_time": "2023-10-31T04:00:23.206244",
     "exception": false,
     "start_time": "2023-10-31T04:00:19.914612",
     "status": "completed"
    },
    "tags": []
   },
   "outputs": [
    {
     "data": {
      "text/html": [
       "<div>\n",
       "<style scoped>\n",
       "    .dataframe tbody tr th:only-of-type {\n",
       "        vertical-align: middle;\n",
       "    }\n",
       "\n",
       "    .dataframe tbody tr th {\n",
       "        vertical-align: top;\n",
       "    }\n",
       "\n",
       "    .dataframe thead th {\n",
       "        text-align: right;\n",
       "    }\n",
       "</style>\n",
       "<table border=\"1\" class=\"dataframe\">\n",
       "  <thead>\n",
       "    <tr style=\"text-align: right;\">\n",
       "      <th></th>\n",
       "      <th>Time</th>\n",
       "      <th>V1</th>\n",
       "      <th>V2</th>\n",
       "      <th>V3</th>\n",
       "      <th>V4</th>\n",
       "      <th>V5</th>\n",
       "      <th>V6</th>\n",
       "      <th>V7</th>\n",
       "      <th>V8</th>\n",
       "      <th>V9</th>\n",
       "      <th>...</th>\n",
       "      <th>V21</th>\n",
       "      <th>V22</th>\n",
       "      <th>V23</th>\n",
       "      <th>V24</th>\n",
       "      <th>V25</th>\n",
       "      <th>V26</th>\n",
       "      <th>V27</th>\n",
       "      <th>V28</th>\n",
       "      <th>Amount</th>\n",
       "      <th>Class</th>\n",
       "    </tr>\n",
       "  </thead>\n",
       "  <tbody>\n",
       "    <tr>\n",
       "      <th>0</th>\n",
       "      <td>0.0</td>\n",
       "      <td>-1.359807</td>\n",
       "      <td>-0.072781</td>\n",
       "      <td>2.536347</td>\n",
       "      <td>1.378155</td>\n",
       "      <td>-0.338321</td>\n",
       "      <td>0.462388</td>\n",
       "      <td>0.239599</td>\n",
       "      <td>0.098698</td>\n",
       "      <td>0.363787</td>\n",
       "      <td>...</td>\n",
       "      <td>-0.018307</td>\n",
       "      <td>0.277838</td>\n",
       "      <td>-0.110474</td>\n",
       "      <td>0.066928</td>\n",
       "      <td>0.128539</td>\n",
       "      <td>-0.189115</td>\n",
       "      <td>0.133558</td>\n",
       "      <td>-0.021053</td>\n",
       "      <td>149.62</td>\n",
       "      <td>0</td>\n",
       "    </tr>\n",
       "    <tr>\n",
       "      <th>1</th>\n",
       "      <td>0.0</td>\n",
       "      <td>1.191857</td>\n",
       "      <td>0.266151</td>\n",
       "      <td>0.166480</td>\n",
       "      <td>0.448154</td>\n",
       "      <td>0.060018</td>\n",
       "      <td>-0.082361</td>\n",
       "      <td>-0.078803</td>\n",
       "      <td>0.085102</td>\n",
       "      <td>-0.255425</td>\n",
       "      <td>...</td>\n",
       "      <td>-0.225775</td>\n",
       "      <td>-0.638672</td>\n",
       "      <td>0.101288</td>\n",
       "      <td>-0.339846</td>\n",
       "      <td>0.167170</td>\n",
       "      <td>0.125895</td>\n",
       "      <td>-0.008983</td>\n",
       "      <td>0.014724</td>\n",
       "      <td>2.69</td>\n",
       "      <td>0</td>\n",
       "    </tr>\n",
       "    <tr>\n",
       "      <th>2</th>\n",
       "      <td>1.0</td>\n",
       "      <td>-1.358354</td>\n",
       "      <td>-1.340163</td>\n",
       "      <td>1.773209</td>\n",
       "      <td>0.379780</td>\n",
       "      <td>-0.503198</td>\n",
       "      <td>1.800499</td>\n",
       "      <td>0.791461</td>\n",
       "      <td>0.247676</td>\n",
       "      <td>-1.514654</td>\n",
       "      <td>...</td>\n",
       "      <td>0.247998</td>\n",
       "      <td>0.771679</td>\n",
       "      <td>0.909412</td>\n",
       "      <td>-0.689281</td>\n",
       "      <td>-0.327642</td>\n",
       "      <td>-0.139097</td>\n",
       "      <td>-0.055353</td>\n",
       "      <td>-0.059752</td>\n",
       "      <td>378.66</td>\n",
       "      <td>0</td>\n",
       "    </tr>\n",
       "    <tr>\n",
       "      <th>3</th>\n",
       "      <td>1.0</td>\n",
       "      <td>-0.966272</td>\n",
       "      <td>-0.185226</td>\n",
       "      <td>1.792993</td>\n",
       "      <td>-0.863291</td>\n",
       "      <td>-0.010309</td>\n",
       "      <td>1.247203</td>\n",
       "      <td>0.237609</td>\n",
       "      <td>0.377436</td>\n",
       "      <td>-1.387024</td>\n",
       "      <td>...</td>\n",
       "      <td>-0.108300</td>\n",
       "      <td>0.005274</td>\n",
       "      <td>-0.190321</td>\n",
       "      <td>-1.175575</td>\n",
       "      <td>0.647376</td>\n",
       "      <td>-0.221929</td>\n",
       "      <td>0.062723</td>\n",
       "      <td>0.061458</td>\n",
       "      <td>123.50</td>\n",
       "      <td>0</td>\n",
       "    </tr>\n",
       "    <tr>\n",
       "      <th>4</th>\n",
       "      <td>2.0</td>\n",
       "      <td>-1.158233</td>\n",
       "      <td>0.877737</td>\n",
       "      <td>1.548718</td>\n",
       "      <td>0.403034</td>\n",
       "      <td>-0.407193</td>\n",
       "      <td>0.095921</td>\n",
       "      <td>0.592941</td>\n",
       "      <td>-0.270533</td>\n",
       "      <td>0.817739</td>\n",
       "      <td>...</td>\n",
       "      <td>-0.009431</td>\n",
       "      <td>0.798278</td>\n",
       "      <td>-0.137458</td>\n",
       "      <td>0.141267</td>\n",
       "      <td>-0.206010</td>\n",
       "      <td>0.502292</td>\n",
       "      <td>0.219422</td>\n",
       "      <td>0.215153</td>\n",
       "      <td>69.99</td>\n",
       "      <td>0</td>\n",
       "    </tr>\n",
       "  </tbody>\n",
       "</table>\n",
       "<p>5 rows × 31 columns</p>\n",
       "</div>"
      ],
      "text/plain": [
       "   Time        V1        V2        V3        V4        V5        V6        V7  \\\n",
       "0   0.0 -1.359807 -0.072781  2.536347  1.378155 -0.338321  0.462388  0.239599   \n",
       "1   0.0  1.191857  0.266151  0.166480  0.448154  0.060018 -0.082361 -0.078803   \n",
       "2   1.0 -1.358354 -1.340163  1.773209  0.379780 -0.503198  1.800499  0.791461   \n",
       "3   1.0 -0.966272 -0.185226  1.792993 -0.863291 -0.010309  1.247203  0.237609   \n",
       "4   2.0 -1.158233  0.877737  1.548718  0.403034 -0.407193  0.095921  0.592941   \n",
       "\n",
       "         V8        V9  ...       V21       V22       V23       V24       V25  \\\n",
       "0  0.098698  0.363787  ... -0.018307  0.277838 -0.110474  0.066928  0.128539   \n",
       "1  0.085102 -0.255425  ... -0.225775 -0.638672  0.101288 -0.339846  0.167170   \n",
       "2  0.247676 -1.514654  ...  0.247998  0.771679  0.909412 -0.689281 -0.327642   \n",
       "3  0.377436 -1.387024  ... -0.108300  0.005274 -0.190321 -1.175575  0.647376   \n",
       "4 -0.270533  0.817739  ... -0.009431  0.798278 -0.137458  0.141267 -0.206010   \n",
       "\n",
       "        V26       V27       V28  Amount  Class  \n",
       "0 -0.189115  0.133558 -0.021053  149.62      0  \n",
       "1  0.125895 -0.008983  0.014724    2.69      0  \n",
       "2 -0.139097 -0.055353 -0.059752  378.66      0  \n",
       "3 -0.221929  0.062723  0.061458  123.50      0  \n",
       "4  0.502292  0.219422  0.215153   69.99      0  \n",
       "\n",
       "[5 rows x 31 columns]"
      ]
     },
     "execution_count": 3,
     "metadata": {},
     "output_type": "execute_result"
    }
   ],
   "source": [
    "raw_df = pd.read_csv('/kaggle/input/creditcardfraud/creditcard.csv')\n",
    "raw_df.head()"
   ]
  },
  {
   "cell_type": "code",
   "execution_count": 4,
   "id": "e1703e99",
   "metadata": {
    "execution": {
     "iopub.execute_input": "2023-10-31T04:00:23.221828Z",
     "iopub.status.busy": "2023-10-31T04:00:23.221475Z",
     "iopub.status.idle": "2023-10-31T04:00:23.226356Z",
     "shell.execute_reply": "2023-10-31T04:00:23.225198Z"
    },
    "papermill": {
     "duration": 0.016788,
     "end_time": "2023-10-31T04:00:23.230175",
     "exception": false,
     "start_time": "2023-10-31T04:00:23.213387",
     "status": "completed"
    },
    "tags": []
   },
   "outputs": [
    {
     "name": "stdout",
     "output_type": "stream",
     "text": [
      "Number of observations: 284807\n"
     ]
    }
   ],
   "source": [
    "print(f'Number of observations: {raw_df.shape[0]}')"
   ]
  },
  {
   "cell_type": "code",
   "execution_count": 5,
   "id": "f42907cf",
   "metadata": {
    "execution": {
     "iopub.execute_input": "2023-10-31T04:00:23.246838Z",
     "iopub.status.busy": "2023-10-31T04:00:23.245762Z",
     "iopub.status.idle": "2023-10-31T04:00:23.254055Z",
     "shell.execute_reply": "2023-10-31T04:00:23.252531Z"
    },
    "papermill": {
     "duration": 0.018814,
     "end_time": "2023-10-31T04:00:23.256314",
     "exception": false,
     "start_time": "2023-10-31T04:00:23.237500",
     "status": "completed"
    },
    "tags": []
   },
   "outputs": [
    {
     "name": "stdout",
     "output_type": "stream",
     "text": [
      "Number of fraudulent entries: 492 (0.173% of total)\n"
     ]
    }
   ],
   "source": [
    "neg, pos = np.bincount(raw_df['Class'])\n",
    "total = neg + pos\n",
    "print(f'Number of fraudulent entries: {pos} ({pos / total * 100:.3f}% of total)')"
   ]
  },
  {
   "cell_type": "markdown",
   "id": "cc05b384",
   "metadata": {
    "papermill": {
     "duration": 0.006785,
     "end_time": "2023-10-31T04:00:23.270411",
     "exception": false,
     "start_time": "2023-10-31T04:00:23.263626",
     "status": "completed"
    },
    "tags": []
   },
   "source": [
    "## Splitting the data"
   ]
  },
  {
   "cell_type": "markdown",
   "id": "b2abb6ff",
   "metadata": {
    "papermill": {
     "duration": 0.006694,
     "end_time": "2023-10-31T04:00:23.284124",
     "exception": false,
     "start_time": "2023-10-31T04:00:23.277430",
     "status": "completed"
    },
    "tags": []
   },
   "source": [
    "To test the models, we will be split the raw data into training and test sets using a 80-20 split with stratification on the class labels. The test set will be used only for testing the quality of the final model, and it will not be used for hyperparameter tuning."
   ]
  },
  {
   "cell_type": "code",
   "execution_count": 6,
   "id": "de4c26e8",
   "metadata": {
    "execution": {
     "iopub.execute_input": "2023-10-31T04:00:23.299730Z",
     "iopub.status.busy": "2023-10-31T04:00:23.299351Z",
     "iopub.status.idle": "2023-10-31T04:00:23.436341Z",
     "shell.execute_reply": "2023-10-31T04:00:23.435392Z"
    },
    "papermill": {
     "duration": 0.147502,
     "end_time": "2023-10-31T04:00:23.438515",
     "exception": false,
     "start_time": "2023-10-31T04:00:23.291013",
     "status": "completed"
    },
    "tags": []
   },
   "outputs": [],
   "source": [
    "train_df, test_df = train_test_split(raw_df, test_size=0.2, random_state=1, stratify=raw_df['Class'])"
   ]
  },
  {
   "cell_type": "code",
   "execution_count": 7,
   "id": "0e276a1f",
   "metadata": {
    "execution": {
     "iopub.execute_input": "2023-10-31T04:00:23.455396Z",
     "iopub.status.busy": "2023-10-31T04:00:23.455070Z",
     "iopub.status.idle": "2023-10-31T04:00:23.461229Z",
     "shell.execute_reply": "2023-10-31T04:00:23.460142Z"
    },
    "papermill": {
     "duration": 0.016894,
     "end_time": "2023-10-31T04:00:23.463207",
     "exception": false,
     "start_time": "2023-10-31T04:00:23.446313",
     "status": "completed"
    },
    "tags": []
   },
   "outputs": [
    {
     "name": "stdout",
     "output_type": "stream",
     "text": [
      "Percentage of positive class observations in training set: 0.173\n",
      "Percentage of positive class observations in test set: 0.172\n"
     ]
    }
   ],
   "source": [
    "# labels\n",
    "y = train_df['Class'].values\n",
    "y_test = test_df['Class'].values\n",
    "\n",
    "for tag, labels in zip(['training', 'test'], [y, y_test]):\n",
    "    print(f'Percentage of positive class observations in {tag} set: {labels.mean()*100:.3f}')\n"
   ]
  },
  {
   "cell_type": "code",
   "execution_count": 8,
   "id": "47bdf9c6",
   "metadata": {
    "execution": {
     "iopub.execute_input": "2023-10-31T04:00:23.480895Z",
     "iopub.status.busy": "2023-10-31T04:00:23.479685Z",
     "iopub.status.idle": "2023-10-31T04:00:23.500357Z",
     "shell.execute_reply": "2023-10-31T04:00:23.499177Z"
    },
    "papermill": {
     "duration": 0.031278,
     "end_time": "2023-10-31T04:00:23.502417",
     "exception": false,
     "start_time": "2023-10-31T04:00:23.471139",
     "status": "completed"
    },
    "tags": []
   },
   "outputs": [],
   "source": [
    "# get the X's (TODO: transforms)\n",
    "X = train_df.drop('Class', axis=1)\n",
    "X_test = test_df.drop('Class', axis=1)"
   ]
  },
  {
   "cell_type": "markdown",
   "id": "74a948f2",
   "metadata": {
    "papermill": {
     "duration": 0.006892,
     "end_time": "2023-10-31T04:00:23.516598",
     "exception": false,
     "start_time": "2023-10-31T04:00:23.509706",
     "status": "completed"
    },
    "tags": []
   },
   "source": [
    "## XGBoost model\n",
    "\n",
    "The function `fit_model` in the cell below trains a xgboost classifier. The function allows the specification of hyperparameters as a dictionary through the `config` argument. If `config` is not specified, default values of the hyperparameters are used."
   ]
  },
  {
   "cell_type": "code",
   "execution_count": 9,
   "id": "d04bbb6b",
   "metadata": {
    "execution": {
     "iopub.execute_input": "2023-10-31T04:00:23.533004Z",
     "iopub.status.busy": "2023-10-31T04:00:23.532638Z",
     "iopub.status.idle": "2023-10-31T04:00:23.539362Z",
     "shell.execute_reply": "2023-10-31T04:00:23.538101Z"
    },
    "papermill": {
     "duration": 0.017287,
     "end_time": "2023-10-31T04:00:23.541356",
     "exception": false,
     "start_time": "2023-10-31T04:00:23.524069",
     "status": "completed"
    },
    "tags": []
   },
   "outputs": [],
   "source": [
    "def fit_model(\n",
    "    X:pd.DataFrame,\n",
    "    y:np.ndarray,\n",
    "    config:Optional[Dict]=None,\n",
    "    n_jobs:int=1\n",
    ") -> XGBClassifier:\n",
    "    '''\n",
    "    Trains a xgboost classifer on the data\n",
    "    '''\n",
    "    \n",
    "    model = XGBClassifier(n_jobs = n_jobs, tree_method='hist')\n",
    "    \n",
    "    if config:\n",
    "        model.set_params(**config)\n",
    "        \n",
    "    return model.fit(X, y)"
   ]
  },
  {
   "cell_type": "markdown",
   "id": "c3fd074b",
   "metadata": {
    "papermill": {
     "duration": 0.006617,
     "end_time": "2023-10-31T04:00:23.555287",
     "exception": false,
     "start_time": "2023-10-31T04:00:23.548670",
     "status": "completed"
    },
    "tags": []
   },
   "source": [
    "## Tuning hyperparameters through Optuna\n",
    "\n",
    "We will tune the hyperparameters to maximize the  stratified 5-fold CV estimate for the area under the precision-recall curve."
   ]
  },
  {
   "cell_type": "code",
   "execution_count": 10,
   "id": "71f4b168",
   "metadata": {
    "execution": {
     "iopub.execute_input": "2023-10-31T04:00:23.570932Z",
     "iopub.status.busy": "2023-10-31T04:00:23.570577Z",
     "iopub.status.idle": "2023-10-31T04:00:23.575176Z",
     "shell.execute_reply": "2023-10-31T04:00:23.574059Z"
    },
    "papermill": {
     "duration": 0.015134,
     "end_time": "2023-10-31T04:00:23.577154",
     "exception": false,
     "start_time": "2023-10-31T04:00:23.562020",
     "status": "completed"
    },
    "tags": []
   },
   "outputs": [],
   "source": [
    "def auc_pr(y_true, y_score) -> float:\n",
    "    precision, recall, _ = precision_recall_curve(y_true, y_score)\n",
    "    return auc(recall, precision)"
   ]
  },
  {
   "cell_type": "code",
   "execution_count": 11,
   "id": "6434f994",
   "metadata": {
    "_kg_hide-output": true,
    "execution": {
     "iopub.execute_input": "2023-10-31T04:00:23.593304Z",
     "iopub.status.busy": "2023-10-31T04:00:23.592612Z",
     "iopub.status.idle": "2023-10-31T04:30:39.163605Z",
     "shell.execute_reply": "2023-10-31T04:30:39.162291Z"
    },
    "papermill": {
     "duration": 1815.581641,
     "end_time": "2023-10-31T04:30:39.166197",
     "exception": false,
     "start_time": "2023-10-31T04:00:23.584556",
     "status": "completed"
    },
    "tags": []
   },
   "outputs": [
    {
     "name": "stderr",
     "output_type": "stream",
     "text": [
      "/tmp/ipykernel_20/1027815319.py:47: ExperimentalWarning: BoTorchSampler is experimental (supported from v2.4.0). The interface can change in the future.\n",
      "  sampler = BoTorchSampler(\n",
      "[I 2023-10-31 04:00:23,601] A new study created in memory with name: xgboost\n",
      "[I 2023-10-31 04:00:47,222] Trial 0 finished with value: 0.7129327841842938 and parameters: {'n_estimators': 402, 'learning_rate': 0.0012847169462887496, 'max_depth': 1, 'subsample': 0.5961832921746021, 'colsample_bytree': 0.7475220728070068, 'reg_alpha': 0.00017024117230719408, 'reg_lambda': 64.21581278784039, 'gamma': 0.07051757771805378, 'scale_pos_weight': 21.293860251341325}. Best is trial 0 with value: 0.7129327841842938.\n",
      "[I 2023-10-31 04:00:59,014] Trial 1 finished with value: 0.7622316177829072 and parameters: {'n_estimators': 161, 'learning_rate': 0.0021371540932817725, 'max_depth': 5, 'subsample': 0.494715020211662, 'colsample_bytree': 0.15371010694861154, 'reg_alpha': 9.559662353571618e-05, 'reg_lambda': 0.23985791672731863, 'gamma': 6.682166680830656e-07, 'scale_pos_weight': 3.0518890646107613}. Best is trial 1 with value: 0.7622316177829072.\n",
      "[I 2023-10-31 04:01:16,872] Trial 2 finished with value: 0.8122220358175918 and parameters: {'n_estimators': 245, 'learning_rate': 0.0115044134606509, 'max_depth': 4, 'subsample': 0.8644886146700106, 'colsample_bytree': 0.7520097923745717, 'reg_alpha': 0.012889471387164663, 'reg_lambda': 0.16766168469033446, 'gamma': 1.6966377998294808e-05, 'scale_pos_weight': 9.981606672272317}. Best is trial 2 with value: 0.8122220358175918.\n",
      "[I 2023-10-31 04:01:24,629] Trial 3 finished with value: 0.7874329427280484 and parameters: {'n_estimators': 98, 'learning_rate': 0.0013745480424748866, 'max_depth': 4, 'subsample': 0.18289444595056767, 'colsample_bytree': 0.4903310554115754, 'reg_alpha': 0.00020352962541105588, 'reg_lambda': 0.0008646711652214251, 'gamma': 0.000181260387025003, 'scale_pos_weight': 7.284736910405034}. Best is trial 2 with value: 0.8122220358175918.\n",
      "[I 2023-10-31 04:01:49,612] Trial 4 finished with value: 0.8496445657767463 and parameters: {'n_estimators': 178, 'learning_rate': 0.2896928251535267, 'max_depth': 10, 'subsample': 0.5516530082959029, 'colsample_bytree': 0.6615576566129001, 'reg_alpha': 1.4327946486401337e-07, 'reg_lambda': 1.4888632772816035e-05, 'gamma': 0.00014068964038260946, 'scale_pos_weight': 246.94638179557853}. Best is trial 4 with value: 0.8496445657767463.\n",
      "[I 2023-10-31 04:02:01,379] Trial 5 finished with value: 0.7725575477633426 and parameters: {'n_estimators': 105, 'learning_rate': 0.007443674370862644, 'max_depth': 12, 'subsample': 0.5675366073338284, 'colsample_bytree': 0.6516050731866709, 'reg_alpha': 1.6080022788912947e-07, 'reg_lambda': 1.834036629034631, 'gamma': 0.010730038595535289, 'scale_pos_weight': 32.017522093445336}. Best is trial 4 with value: 0.8496445657767463.\n",
      "[I 2023-10-31 04:02:11,538] Trial 6 finished with value: 0.7453267797444475 and parameters: {'n_estimators': 139, 'learning_rate': 0.0015082963808161671, 'max_depth': 2, 'subsample': 0.713170689213517, 'colsample_bytree': 0.8879111576156574, 'reg_alpha': 0.0012712277796716812, 'reg_lambda': 0.04933303446193211, 'gamma': 0.0072337838165914565, 'scale_pos_weight': 53.196144569692684}. Best is trial 4 with value: 0.8496445657767463.\n",
      "[I 2023-10-31 04:02:32,787] Trial 7 finished with value: 0.7519015016400379 and parameters: {'n_estimators': 376, 'learning_rate': 0.18370820364814908, 'max_depth': 1, 'subsample': 0.7873145572990043, 'colsample_bytree': 0.3192997370831866, 'reg_alpha': 8.754464899604722e-07, 'reg_lambda': 0.005303585504099717, 'gamma': 9.059936757718687e-08, 'scale_pos_weight': 278.69316857661556}. Best is trial 4 with value: 0.8496445657767463.\n",
      "[I 2023-10-31 04:02:52,264] Trial 8 finished with value: 0.7930906761771869 and parameters: {'n_estimators': 326, 'learning_rate': 0.06357446394504956, 'max_depth': 1, 'subsample': 0.6349886915005383, 'colsample_bytree': 0.6011066731548598, 'reg_alpha': 3.8868380129949447e-07, 'reg_lambda': 3.393947743751808e-07, 'gamma': 0.09021843468757966, 'scale_pos_weight': 7.592419013105077}. Best is trial 4 with value: 0.8496445657767463.\n",
      "[I 2023-10-31 04:03:17,150] Trial 9 finished with value: 0.7703120723282597 and parameters: {'n_estimators': 396, 'learning_rate': 0.014069188748472383, 'max_depth': 2, 'subsample': 0.9326192406525875, 'colsample_bytree': 0.8575029972214446, 'reg_alpha': 3.749519934002872e-05, 'reg_lambda': 2.728441445955422e-08, 'gamma': 1.1160425021379629e-05, 'scale_pos_weight': 12.581227672337624}. Best is trial 4 with value: 0.8496445657767463.\n",
      "[I 2023-10-31 04:03:40,682] Trial 10 finished with value: 0.8392157679687486 and parameters: {'n_estimators': 190, 'learning_rate': 0.43592301993128996, 'max_depth': 11, 'subsample': 0.5585149433472977, 'colsample_bytree': 0.6860731716586929, 'reg_alpha': 9.884894925220911e-07, 'reg_lambda': 4.205108950135406e-06, 'gamma': 0.00012230167493425872, 'scale_pos_weight': 130.20606877456788}. Best is trial 4 with value: 0.8496445657767463.\n",
      "[I 2023-10-31 04:04:04,356] Trial 11 finished with value: 0.8382322283087913 and parameters: {'n_estimators': 171, 'learning_rate': 0.38382248037458644, 'max_depth': 10, 'subsample': 0.4946256297719839, 'colsample_bytree': 0.6545314950608503, 'reg_alpha': 2.6314364087081323e-08, 'reg_lambda': 1.3122120265391055e-06, 'gamma': 0.0003663494684629447, 'scale_pos_weight': 299.8362842873933}. Best is trial 4 with value: 0.8496445657767463.\n",
      "[I 2023-10-31 04:04:30,144] Trial 12 finished with value: 0.8427857797846592 and parameters: {'n_estimators': 179, 'learning_rate': 0.3257878602844058, 'max_depth': 12, 'subsample': 0.5896066835665631, 'colsample_bytree': 0.7011404079444108, 'reg_alpha': 2.1437476331099005e-07, 'reg_lambda': 1.3430313398979892e-05, 'gamma': 2.8738885896911135e-05, 'scale_pos_weight': 488.87314998464103}. Best is trial 4 with value: 0.8496445657767463.\n",
      "[I 2023-10-31 04:04:54,015] Trial 13 finished with value: 0.8504550454186054 and parameters: {'n_estimators': 186, 'learning_rate': 0.3973018198173284, 'max_depth': 9, 'subsample': 0.6542308010174099, 'colsample_bytree': 0.6839457132204264, 'reg_alpha': 6.839595225422817e-08, 'reg_lambda': 3.0575153620388936e-05, 'gamma': 0.000406829102019489, 'scale_pos_weight': 293.753116446874}. Best is trial 13 with value: 0.8504550454186054.\n",
      "[I 2023-10-31 04:05:13,859] Trial 14 finished with value: 0.777295581229396 and parameters: {'n_estimators': 135, 'learning_rate': 0.36989963145720356, 'max_depth': 8, 'subsample': 0.6210345557274536, 'colsample_bytree': 0.6759017006880963, 'reg_alpha': 2.809750070902675e-07, 'reg_lambda': 2.9335399002058237e-05, 'gamma': 0.00010487336851310943, 'scale_pos_weight': 294.2915381279954}. Best is trial 13 with value: 0.8504550454186054.\n",
      "[I 2023-10-31 04:05:42,950] Trial 15 finished with value: 0.8447570112267322 and parameters: {'n_estimators': 194, 'learning_rate': 0.24076834148197535, 'max_depth': 10, 'subsample': 0.5522967870576215, 'colsample_bytree': 0.652231246358673, 'reg_alpha': 3.071311027507456e-08, 'reg_lambda': 2.0661827650429194e-05, 'gamma': 0.0002341487612768039, 'scale_pos_weight': 333.3956888748584}. Best is trial 13 with value: 0.8504550454186054.\n",
      "[I 2023-10-31 04:06:02,931] Trial 16 finished with value: 0.4456495863339393 and parameters: {'n_estimators': 183, 'learning_rate': 0.6327343642674003, 'max_depth': 11, 'subsample': 0.5727274318758976, 'colsample_bytree': 0.646765135888186, 'reg_alpha': 1.2127068657436208e-07, 'reg_lambda': 6.148168499111516e-05, 'gamma': 0.0006022114966083149, 'scale_pos_weight': 306.3955930780233}. Best is trial 13 with value: 0.8504550454186054.\n",
      "[I 2023-10-31 04:06:35,360] Trial 17 finished with value: 0.8483533352907271 and parameters: {'n_estimators': 194, 'learning_rate': 0.05679910611792514, 'max_depth': 9, 'subsample': 0.5504232710942485, 'colsample_bytree': 0.7434707190927272, 'reg_alpha': 6.087647091865128e-08, 'reg_lambda': 7.121074408368773e-08, 'gamma': 5.1064875739998104e-06, 'scale_pos_weight': 214.3257302391947}. Best is trial 13 with value: 0.8504550454186054.\n",
      "[I 2023-10-31 04:07:07,702] Trial 18 finished with value: 0.8464419500378444 and parameters: {'n_estimators': 186, 'learning_rate': 0.05938435124849444, 'max_depth': 9, 'subsample': 0.5435952579887966, 'colsample_bytree': 0.7479687376247192, 'reg_alpha': 2.2440390813314326e-08, 'reg_lambda': 5.382492940213473e-08, 'gamma': 4.2696766552113395e-06, 'scale_pos_weight': 337.6298580919777}. Best is trial 13 with value: 0.8504550454186054.\n",
      "[I 2023-10-31 04:07:38,000] Trial 19 finished with value: 0.8459167786381494 and parameters: {'n_estimators': 188, 'learning_rate': 0.07105001825059261, 'max_depth': 9, 'subsample': 0.5150592732347081, 'colsample_bytree': 0.7344258171033826, 'reg_alpha': 2.4907226188350046e-07, 'reg_lambda': 4.349570654498321e-08, 'gamma': 4.658647567439574e-06, 'scale_pos_weight': 124.96800423479978}. Best is trial 13 with value: 0.8504550454186054.\n",
      "[I 2023-10-31 04:08:15,595] Trial 20 finished with value: 0.8498343718849449 and parameters: {'n_estimators': 217, 'learning_rate': 0.05031224132836943, 'max_depth': 10, 'subsample': 0.6432298824825543, 'colsample_bytree': 0.7728394979655422, 'reg_alpha': 8.878377967005344e-08, 'reg_lambda': 2.036291535125442e-07, 'gamma': 3.087671807987768e-06, 'scale_pos_weight': 203.93822256568956}. Best is trial 13 with value: 0.8504550454186054.\n",
      "[I 2023-10-31 04:08:42,580] Trial 21 finished with value: 0.8485921291765693 and parameters: {'n_estimators': 202, 'learning_rate': 0.05031144272652048, 'max_depth': 8, 'subsample': 0.5891706771933878, 'colsample_bytree': 0.7227614257056203, 'reg_alpha': 0.11209553253071726, 'reg_lambda': 9.072351241503602e-08, 'gamma': 3.59773822310064e-05, 'scale_pos_weight': 161.00031961696888}. Best is trial 13 with value: 0.8504550454186054.\n",
      "[I 2023-10-31 04:09:15,026] Trial 22 finished with value: 0.8485188414256379 and parameters: {'n_estimators': 199, 'learning_rate': 0.05292925755877203, 'max_depth': 9, 'subsample': 0.5710058463629447, 'colsample_bytree': 0.7431701131427499, 'reg_alpha': 9.600903836338902e-06, 'reg_lambda': 6.659858462841335e-08, 'gamma': 8.28724587237218e-06, 'scale_pos_weight': 240.2009984423312}. Best is trial 13 with value: 0.8504550454186054.\n",
      "[I 2023-10-31 04:09:46,361] Trial 23 finished with value: 0.84557648052087 and parameters: {'n_estimators': 192, 'learning_rate': 0.04659340167019385, 'max_depth': 9, 'subsample': 0.5901974007541341, 'colsample_bytree': 0.713430046176893, 'reg_alpha': 3.850736112688134e-06, 'reg_lambda': 6.465639770460796e-08, 'gamma': 3.4424803784628186e-05, 'scale_pos_weight': 208.3732542957925}. Best is trial 13 with value: 0.8504550454186054.\n",
      "[I 2023-10-31 04:10:20,874] Trial 24 finished with value: 0.8441104510557983 and parameters: {'n_estimators': 204, 'learning_rate': 0.07902672122151007, 'max_depth': 9, 'subsample': 0.5384123420414174, 'colsample_bytree': 0.7763769597296241, 'reg_alpha': 5.87025831481741e-06, 'reg_lambda': 2.4752408803095915e-07, 'gamma': 1.745013908842997e-06, 'scale_pos_weight': 242.28869203241808}. Best is trial 13 with value: 0.8504550454186054.\n",
      "[I 2023-10-31 04:10:53,751] Trial 25 finished with value: 0.8507004000134017 and parameters: {'n_estimators': 211, 'learning_rate': 0.11183873580106074, 'max_depth': 8, 'subsample': 0.618035683716133, 'colsample_bytree': 0.7707760138635738, 'reg_alpha': 9.511709096056114e-07, 'reg_lambda': 4.7489332294689045e-08, 'gamma': 2.3442557491309075e-05, 'scale_pos_weight': 227.54774835517566}. Best is trial 25 with value: 0.8507004000134017.\n",
      "[I 2023-10-31 04:11:27,048] Trial 26 finished with value: 0.8525434805371596 and parameters: {'n_estimators': 228, 'learning_rate': 0.056230350416237425, 'max_depth': 7, 'subsample': 0.548111077206209, 'colsample_bytree': 0.7023183114511048, 'reg_alpha': 4.964827881349419e-07, 'reg_lambda': 4.270017681794446e-07, 'gamma': 2.2435336375133708e-05, 'scale_pos_weight': 223.59854312231053}. Best is trial 26 with value: 0.8525434805371596.\n",
      "[I 2023-10-31 04:11:57,779] Trial 27 finished with value: 0.8524766266764686 and parameters: {'n_estimators': 174, 'learning_rate': 0.08079541458666635, 'max_depth': 10, 'subsample': 0.6178533735453673, 'colsample_bytree': 0.6495231232347198, 'reg_alpha': 7.21117524203e-07, 'reg_lambda': 2.4059086982322723e-07, 'gamma': 7.09982052429139e-06, 'scale_pos_weight': 217.828272178857}. Best is trial 26 with value: 0.8525434805371596.\n",
      "[I 2023-10-31 04:12:26,377] Trial 28 finished with value: 0.8440146170357309 and parameters: {'n_estimators': 241, 'learning_rate': 0.36571535216372053, 'max_depth': 11, 'subsample': 0.6101296312375958, 'colsample_bytree': 0.703277903464789, 'reg_alpha': 3.740425246059981e-07, 'reg_lambda': 3.943560812033471e-06, 'gamma': 0.0002675445766909719, 'scale_pos_weight': 108.54022828183602}. Best is trial 26 with value: 0.8525434805371596.\n",
      "[I 2023-10-31 04:12:55,450] Trial 29 finished with value: 0.8520845762792607 and parameters: {'n_estimators': 199, 'learning_rate': 0.06221087096272426, 'max_depth': 8, 'subsample': 0.8216650565328003, 'colsample_bytree': 0.6987830793795129, 'reg_alpha': 5.476250545960383e-06, 'reg_lambda': 5.767672008981924e-07, 'gamma': 0.00017337855289211032, 'scale_pos_weight': 158.64336739985688}. Best is trial 26 with value: 0.8525434805371596.\n",
      "[I 2023-10-31 04:13:28,617] Trial 30 finished with value: 0.8531529580121499 and parameters: {'n_estimators': 221, 'learning_rate': 0.08656189778978417, 'max_depth': 7, 'subsample': 0.7245672447576406, 'colsample_bytree': 0.7148749493823983, 'reg_alpha': 5.189066942704414e-08, 'reg_lambda': 4.045776452179134e-08, 'gamma': 0.0006052028195796361, 'scale_pos_weight': 231.8199943719749}. Best is trial 30 with value: 0.8531529580121499.\n",
      "[I 2023-10-31 04:14:12,910] Trial 31 finished with value: 0.8517693175612147 and parameters: {'n_estimators': 254, 'learning_rate': 0.0689582626247479, 'max_depth': 12, 'subsample': 0.7170561529636312, 'colsample_bytree': 0.5831840397886481, 'reg_alpha': 1.5999083618147285e-07, 'reg_lambda': 4.674632217077323e-08, 'gamma': 2.3674712187380234e-05, 'scale_pos_weight': 290.1466261353431}. Best is trial 30 with value: 0.8531529580121499.\n",
      "[I 2023-10-31 04:14:48,631] Trial 32 finished with value: 0.8522052702197624 and parameters: {'n_estimators': 212, 'learning_rate': 0.07070106236624583, 'max_depth': 12, 'subsample': 0.5813216380873452, 'colsample_bytree': 0.7021536376879954, 'reg_alpha': 1.4782464175453312e-07, 'reg_lambda': 2.1000999668691055e-06, 'gamma': 0.0044659894338271834, 'scale_pos_weight': 285.14163099046584}. Best is trial 30 with value: 0.8531529580121499.\n",
      "[I 2023-10-31 04:15:24,638] Trial 33 finished with value: 0.8562143433155311 and parameters: {'n_estimators': 230, 'learning_rate': 0.09354821640081995, 'max_depth': 12, 'subsample': 0.5993182702001183, 'colsample_bytree': 0.6086870894773386, 'reg_alpha': 1.4699670577875393e-05, 'reg_lambda': 1.6423485690846282e-07, 'gamma': 0.0005371996005755593, 'scale_pos_weight': 105.134669156071}. Best is trial 33 with value: 0.8562143433155311.\n",
      "[I 2023-10-31 04:15:55,866] Trial 34 finished with value: 0.8441924530829817 and parameters: {'n_estimators': 209, 'learning_rate': 0.07478518520027301, 'max_depth': 7, 'subsample': 0.6018959791982674, 'colsample_bytree': 0.5493823498271263, 'reg_alpha': 0.000678841716133413, 'reg_lambda': 3.761341814453406e-08, 'gamma': 0.0021914155887842756, 'scale_pos_weight': 266.95872128222544}. Best is trial 33 with value: 0.8562143433155311.\n",
      "[I 2023-10-31 04:16:35,360] Trial 35 finished with value: 0.8483682824590935 and parameters: {'n_estimators': 211, 'learning_rate': 0.09476973119439802, 'max_depth': 12, 'subsample': 0.4960617874910809, 'colsample_bytree': 0.6161848924007391, 'reg_alpha': 1.812799229932191e-08, 'reg_lambda': 2.7062828961615684e-08, 'gamma': 0.00022982695351941954, 'scale_pos_weight': 577.8760162601625}. Best is trial 33 with value: 0.8562143433155311.\n",
      "[I 2023-10-31 04:17:10,357] Trial 36 finished with value: 0.8543907727660643 and parameters: {'n_estimators': 234, 'learning_rate': 0.08288794489524362, 'max_depth': 7, 'subsample': 0.6093960055351197, 'colsample_bytree': 0.5286175660645264, 'reg_alpha': 1.2361575595131292e-08, 'reg_lambda': 1.0656154315033734e-05, 'gamma': 4.5905313552820266e-05, 'scale_pos_weight': 125.42873572758927}. Best is trial 33 with value: 0.8562143433155311.\n",
      "[I 2023-10-31 04:17:45,969] Trial 37 finished with value: 0.854094127779006 and parameters: {'n_estimators': 214, 'learning_rate': 0.09665095603206969, 'max_depth': 11, 'subsample': 0.7888608702848975, 'colsample_bytree': 0.6398288045870837, 'reg_alpha': 6.013260932825402e-07, 'reg_lambda': 1.489709264053478e-05, 'gamma': 7.014541204814064e-05, 'scale_pos_weight': 387.00249881776665}. Best is trial 33 with value: 0.8562143433155311.\n",
      "[I 2023-10-31 04:18:14,344] Trial 38 finished with value: 0.8500518827880823 and parameters: {'n_estimators': 181, 'learning_rate': 0.09744288474775233, 'max_depth': 8, 'subsample': 0.5520368463058998, 'colsample_bytree': 0.7020692641271586, 'reg_alpha': 7.831873628788221e-08, 'reg_lambda': 9.041895376180625e-06, 'gamma': 0.0008210797640183404, 'scale_pos_weight': 92.59929727909102}. Best is trial 33 with value: 0.8562143433155311.\n",
      "[I 2023-10-31 04:18:49,850] Trial 39 finished with value: 0.8541639331630251 and parameters: {'n_estimators': 207, 'learning_rate': 0.0583119269658496, 'max_depth': 12, 'subsample': 0.6371647360354504, 'colsample_bytree': 0.5004032726344869, 'reg_alpha': 5.661906060686307e-06, 'reg_lambda': 8.214892290055444e-05, 'gamma': 1.0958120733785534e-05, 'scale_pos_weight': 142.01075640883533}. Best is trial 33 with value: 0.8562143433155311.\n",
      "[I 2023-10-31 04:19:26,836] Trial 40 finished with value: 0.8557356706986579 and parameters: {'n_estimators': 247, 'learning_rate': 0.053235789830002524, 'max_depth': 12, 'subsample': 0.7023789805934624, 'colsample_bytree': 0.5719253211918539, 'reg_alpha': 2.2465286616887192e-05, 'reg_lambda': 2.727222898966704e-07, 'gamma': 0.0021866706861156143, 'scale_pos_weight': 70.78479719044975}. Best is trial 33 with value: 0.8562143433155311.\n",
      "[I 2023-10-31 04:19:50,631] Trial 41 finished with value: 0.7953804472538961 and parameters: {'n_estimators': 210, 'learning_rate': 0.09727957342819255, 'max_depth': 11, 'subsample': 0.7441163716077496, 'colsample_bytree': 0.606723522407902, 'reg_alpha': 89.86380848882926, 'reg_lambda': 8.142782339983172e-08, 'gamma': 1.6479994560431249e-06, 'scale_pos_weight': 62.70686232766953}. Best is trial 33 with value: 0.8562143433155311.\n",
      "[I 2023-10-31 04:20:25,470] Trial 42 finished with value: 0.8494952225733631 and parameters: {'n_estimators': 218, 'learning_rate': 0.05222940226883516, 'max_depth': 12, 'subsample': 0.6516476547069148, 'colsample_bytree': 0.7784392609789762, 'reg_alpha': 5.039057942641912e-05, 'reg_lambda': 0.0001926156995330211, 'gamma': 0.0017002601123105165, 'scale_pos_weight': 127.9276345273282}. Best is trial 33 with value: 0.8562143433155311.\n",
      "[I 2023-10-31 04:20:58,574] Trial 43 finished with value: 0.8555559445732891 and parameters: {'n_estimators': 219, 'learning_rate': 0.0963243228300148, 'max_depth': 12, 'subsample': 0.7122217099297198, 'colsample_bytree': 0.6623907565465121, 'reg_alpha': 3.623670138953089e-05, 'reg_lambda': 1.6222749626893144e-07, 'gamma': 4.376732967971136e-06, 'scale_pos_weight': 70.04209080922742}. Best is trial 33 with value: 0.8562143433155311.\n",
      "[I 2023-10-31 04:21:30,697] Trial 44 finished with value: 0.8532842981851122 and parameters: {'n_estimators': 220, 'learning_rate': 0.09517223454297831, 'max_depth': 12, 'subsample': 0.7120719854503348, 'colsample_bytree': 0.6497119626041553, 'reg_alpha': 0.42216102716201925, 'reg_lambda': 2.534131729912794e-07, 'gamma': 1.9981282566322876e-05, 'scale_pos_weight': 77.54358454959782}. Best is trial 33 with value: 0.8562143433155311.\n",
      "[I 2023-10-31 04:22:03,586] Trial 45 finished with value: 0.8514957352476872 and parameters: {'n_estimators': 222, 'learning_rate': 0.09257280677690657, 'max_depth': 12, 'subsample': 0.7244182985712663, 'colsample_bytree': 0.7865639099204806, 'reg_alpha': 0.005799197015595211, 'reg_lambda': 4.4925971949016324e-06, 'gamma': 0.00048197637268255496, 'scale_pos_weight': 124.42325845157866}. Best is trial 33 with value: 0.8562143433155311.\n",
      "[I 2023-10-31 04:22:35,928] Trial 46 finished with value: 0.8530292378815465 and parameters: {'n_estimators': 211, 'learning_rate': 0.09643292660008658, 'max_depth': 7, 'subsample': 0.6379101322626529, 'colsample_bytree': 0.5857037270066041, 'reg_alpha': 0.0003077919525765381, 'reg_lambda': 7.13147197589607e-07, 'gamma': 6.344406975523135e-05, 'scale_pos_weight': 247.87773206335962}. Best is trial 33 with value: 0.8562143433155311.\n",
      "[I 2023-10-31 04:23:08,383] Trial 47 finished with value: 0.8529313038577889 and parameters: {'n_estimators': 225, 'learning_rate': 0.08038453121853016, 'max_depth': 12, 'subsample': 0.772709681794852, 'colsample_bytree': 0.5349635597143576, 'reg_alpha': 0.000388109457625436, 'reg_lambda': 6.168094858877397e-06, 'gamma': 9.174498542964852e-05, 'scale_pos_weight': 53.18390979818916}. Best is trial 33 with value: 0.8562143433155311.\n",
      "[I 2023-10-31 04:23:39,489] Trial 48 finished with value: 0.852698801622067 and parameters: {'n_estimators': 201, 'learning_rate': 0.06454485338752797, 'max_depth': 10, 'subsample': 0.672420403326448, 'colsample_bytree': 0.4360588466438835, 'reg_alpha': 0.008546123521797292, 'reg_lambda': 9.5741172033449e-07, 'gamma': 0.0010394306967473556, 'scale_pos_weight': 84.56379575771128}. Best is trial 33 with value: 0.8562143433155311.\n",
      "[I 2023-10-31 04:24:10,100] Trial 49 finished with value: 0.8518743716186034 and parameters: {'n_estimators': 199, 'learning_rate': 0.06484227909704221, 'max_depth': 11, 'subsample': 0.6686274677638073, 'colsample_bytree': 0.40855729712662314, 'reg_alpha': 0.08260721619707705, 'reg_lambda': 6.740929644236644e-07, 'gamma': 0.0011142194386395776, 'scale_pos_weight': 88.3892409805514}. Best is trial 33 with value: 0.8562143433155311.\n",
      "[I 2023-10-31 04:24:49,158] Trial 50 finished with value: 0.8426339410171524 and parameters: {'n_estimators': 222, 'learning_rate': 0.05388306835769304, 'max_depth': 12, 'subsample': 0.7552269614228138, 'colsample_bytree': 0.4879592710238465, 'reg_alpha': 0.002013801284455117, 'reg_lambda': 1.0862675147509593e-06, 'gamma': 0.0005779799341624273, 'scale_pos_weight': 577.8760162601625}. Best is trial 33 with value: 0.8562143433155311.\n",
      "[I 2023-10-31 04:25:26,390] Trial 51 finished with value: 0.855585590167539 and parameters: {'n_estimators': 252, 'learning_rate': 0.05957812924767207, 'max_depth': 12, 'subsample': 0.5961007308591361, 'colsample_bytree': 0.6732547625169893, 'reg_alpha': 0.009067749728407754, 'reg_lambda': 1.7354737874099348e-06, 'gamma': 7.886191961284857e-05, 'scale_pos_weight': 37.22257241063393}. Best is trial 33 with value: 0.8562143433155311.\n",
      "[I 2023-10-31 04:25:55,810] Trial 52 finished with value: 0.8560338319810692 and parameters: {'n_estimators': 207, 'learning_rate': 0.05169002838959536, 'max_depth': 12, 'subsample': 0.7156774580073357, 'colsample_bytree': 0.5894610743424247, 'reg_alpha': 0.000297188434560314, 'reg_lambda': 1.4452315115128876e-06, 'gamma': 3.7899412817583487e-05, 'scale_pos_weight': 13.880058462119107}. Best is trial 33 with value: 0.8562143433155311.\n",
      "[I 2023-10-31 04:26:30,184] Trial 53 finished with value: 0.8511632083559695 and parameters: {'n_estimators': 227, 'learning_rate': 0.06066005711128451, 'max_depth': 12, 'subsample': 0.6495340311396637, 'colsample_bytree': 0.6308805960560584, 'reg_alpha': 3.2454470166815364e-07, 'reg_lambda': 3.866306202113177e-06, 'gamma': 0.00020743027156774487, 'scale_pos_weight': 23.74038108361538}. Best is trial 33 with value: 0.8562143433155311.\n",
      "[I 2023-10-31 04:27:05,678] Trial 54 finished with value: 0.8472420245633305 and parameters: {'n_estimators': 241, 'learning_rate': 0.05018700161344211, 'max_depth': 12, 'subsample': 0.3928229233194227, 'colsample_bytree': 0.5388608894314211, 'reg_alpha': 0.000924077183922544, 'reg_lambda': 2.3030763052419435e-06, 'gamma': 9.726494858174857e-05, 'scale_pos_weight': 35.18228712687725}. Best is trial 33 with value: 0.8562143433155311.\n",
      "[I 2023-10-31 04:27:43,612] Trial 55 finished with value: 0.8544002382461073 and parameters: {'n_estimators': 192, 'learning_rate': 0.0741171779492528, 'max_depth': 12, 'subsample': 0.720659242276146, 'colsample_bytree': 0.48695623617241024, 'reg_alpha': 9.744575554640979e-05, 'reg_lambda': 2.3191933970184363e-05, 'gamma': 6.86300854508381e-05, 'scale_pos_weight': 577.8760162601625}. Best is trial 33 with value: 0.8562143433155311.\n",
      "[I 2023-10-31 04:28:14,142] Trial 56 finished with value: 0.8529696357321257 and parameters: {'n_estimators': 199, 'learning_rate': 0.09598765803458174, 'max_depth': 12, 'subsample': 0.7680182344896839, 'colsample_bytree': 0.6518782061606485, 'reg_alpha': 0.00042518658621819874, 'reg_lambda': 2.486111112937026e-08, 'gamma': 0.0002393665395944149, 'scale_pos_weight': 112.93408759756853}. Best is trial 33 with value: 0.8562143433155311.\n",
      "[I 2023-10-31 04:28:44,617] Trial 57 finished with value: 0.5944181152139294 and parameters: {'n_estimators': 222, 'learning_rate': 0.28886616863309905, 'max_depth': 12, 'subsample': 0.32236465650490753, 'colsample_bytree': 0.634856560180707, 'reg_alpha': 2.561881144194724e-06, 'reg_lambda': 0.0011864772048313563, 'gamma': 7.201247997673875e-05, 'scale_pos_weight': 577.8760162601625}. Best is trial 33 with value: 0.8562143433155311.\n",
      "[I 2023-10-31 04:29:08,598] Trial 58 finished with value: 0.839486105820219 and parameters: {'n_estimators': 187, 'learning_rate': 0.3512390369088456, 'max_depth': 10, 'subsample': 0.676624605923587, 'colsample_bytree': 0.6934277424074244, 'reg_alpha': 1.621348107859109e-07, 'reg_lambda': 7.062965355937113e-07, 'gamma': 0.0002842193446066696, 'scale_pos_weight': 75.336297095459}. Best is trial 33 with value: 0.8562143433155311.\n",
      "[I 2023-10-31 04:29:33,691] Trial 59 finished with value: 0.8423773888340731 and parameters: {'n_estimators': 195, 'learning_rate': 0.36358213232113984, 'max_depth': 8, 'subsample': 0.7138261056031592, 'colsample_bytree': 0.68905779005455, 'reg_alpha': 2.6316799031854913e-08, 'reg_lambda': 9.419649535966441e-06, 'gamma': 0.0008887749360295775, 'scale_pos_weight': 188.00725012025688}. Best is trial 33 with value: 0.8562143433155311.\n",
      "[I 2023-10-31 04:30:12,050] Trial 60 finished with value: 0.8538393214325042 and parameters: {'n_estimators': 228, 'learning_rate': 0.089225431142419, 'max_depth': 12, 'subsample': 0.7040812360998803, 'colsample_bytree': 0.579086287348839, 'reg_alpha': 0.00018924521169723995, 'reg_lambda': 4.1199674300781306e-07, 'gamma': 8.84431530393392e-05, 'scale_pos_weight': 302.30066115444214}. Best is trial 33 with value: 0.8562143433155311.\n",
      "[I 2023-10-31 04:30:39,118] Trial 61 finished with value: 0.8468455023286758 and parameters: {'n_estimators': 180, 'learning_rate': 0.2601996248690729, 'max_depth': 10, 'subsample': 0.6424447381734775, 'colsample_bytree': 0.6663013437054514, 'reg_alpha': 2.7199451141585286e-05, 'reg_lambda': 1.0646161399974386e-06, 'gamma': 0.0005502995643954772, 'scale_pos_weight': 293.9782763851732}. Best is trial 33 with value: 0.8562143433155311.\n"
     ]
    }
   ],
   "source": [
    "import warnings\n",
    "def fit_and_test_fold(X:pd.DataFrame, y:np.ndarray, config:Dict, train_index:np.ndarray, val_index:np.ndarray) -> float:\n",
    "    # split the data into training and validation splits\n",
    "    X_train, X_val = X.iloc[train_index,:], X.iloc[val_index,:]\n",
    "    y_train = y[train_index]; y_val = y[val_index]\n",
    "    \n",
    "    # fit model on the training split\n",
    "    model = fit_model(X_train, y_train, config, n_jobs=4)\n",
    "    \n",
    "    # generate predictions on validation split\n",
    "    y_val_prob = model.predict_proba(X_val)[:, 1]\n",
    "    \n",
    "    # return the auc on the validation split\n",
    "    return auc_pr(y_val, y_val_prob)\n",
    "\n",
    "\n",
    "def optuna_objective(trial):\n",
    "    \n",
    "    config = {\n",
    "        'n_estimators': trial.suggest_int('n_estimators', 50, 1000, log=True),\n",
    "        'learning_rate': trial.suggest_float('learning_rate', 1e-4, 0.75, log=True),\n",
    "        'max_depth': trial.suggest_int('max_depth', 1, 12, log=True),\n",
    "        'subsample': trial.suggest_float('subsample', 0.1, 1),\n",
    "        'colsample_bytree': trial.suggest_float('colsample_bytree', 0.1, 1),\n",
    "        'reg_alpha': trial.suggest_float('reg_alpha', 1e-8, 100, log=True),\n",
    "        'reg_lambda': trial.suggest_float('reg_lambda', 1e-8, 100, log=True),\n",
    "        'gamma': trial.suggest_float('gamma', 1e-8, 100, log=True),\n",
    "        'scale_pos_weight': trial.suggest_float('scale_pos_weight', 1, neg / pos, log=True)\n",
    "    }\n",
    "    \n",
    "    cv = StratifiedKFold(n_splits=5, shuffle=True, random_state=1)\n",
    "    cv_auc_scores = []\n",
    "    for train_index, val_index in cv.split(X, y):\n",
    "        cv_auc_scores.append(\n",
    "            fit_and_test_fold(X, y, config, train_index, val_index)\n",
    "        )\n",
    "    \n",
    "    # saving the individual fold holdout losses \n",
    "    # uncomment this line if you don't want this\n",
    "    trial.set_user_attr('fold_scores', cv_auc_scores)\n",
    "        \n",
    "    return np.mean(cv_auc_scores)\n",
    "\n",
    "warnings.filterwarnings(\"ignore\", category=optuna.exceptions.ExperimentalWarning, module='optuna.integration')\n",
    "# define sampler and trial\n",
    "\n",
    "sampler = BoTorchSampler(\n",
    "    n_startup_trials=10,# recommended minimum: max(5,1+no_of_hyperparameters)\n",
    "    seed=123\n",
    ")\n",
    "\n",
    "study = optuna.create_study(sampler=sampler, directions=['maximize'], study_name='xgboost')\n",
    "\n",
    "# run the study - maximum of 100 trials or 1800sec wall-clock time\n",
    "study.optimize(optuna_objective, n_trials=100, timeout=1800)\n",
    "\n",
    "# save the runs\n",
    "_ = joblib.dump(study, 'xgboost_hyperopt_fraud.pkl')"
   ]
  },
  {
   "cell_type": "code",
   "execution_count": 12,
   "id": "6a6b4610",
   "metadata": {
    "execution": {
     "iopub.execute_input": "2023-10-31T04:30:39.191633Z",
     "iopub.status.busy": "2023-10-31T04:30:39.190467Z",
     "iopub.status.idle": "2023-10-31T04:30:39.228551Z",
     "shell.execute_reply": "2023-10-31T04:30:39.226989Z"
    },
    "papermill": {
     "duration": 0.052961,
     "end_time": "2023-10-31T04:30:39.230609",
     "exception": false,
     "start_time": "2023-10-31T04:30:39.177648",
     "status": "completed"
    },
    "tags": []
   },
   "outputs": [
    {
     "data": {
      "text/html": [
       "<div>\n",
       "<style scoped>\n",
       "    .dataframe tbody tr th:only-of-type {\n",
       "        vertical-align: middle;\n",
       "    }\n",
       "\n",
       "    .dataframe tbody tr th {\n",
       "        vertical-align: top;\n",
       "    }\n",
       "\n",
       "    .dataframe thead th {\n",
       "        text-align: right;\n",
       "    }\n",
       "</style>\n",
       "<table border=\"1\" class=\"dataframe\">\n",
       "  <thead>\n",
       "    <tr style=\"text-align: right;\">\n",
       "      <th></th>\n",
       "      <th>number</th>\n",
       "      <th>auc_pr</th>\n",
       "      <th>duration</th>\n",
       "      <th>params_colsample_bytree</th>\n",
       "      <th>params_gamma</th>\n",
       "      <th>params_learning_rate</th>\n",
       "      <th>params_max_depth</th>\n",
       "      <th>params_n_estimators</th>\n",
       "      <th>params_reg_alpha</th>\n",
       "      <th>params_reg_lambda</th>\n",
       "      <th>params_scale_pos_weight</th>\n",
       "      <th>params_subsample</th>\n",
       "    </tr>\n",
       "  </thead>\n",
       "  <tbody>\n",
       "    <tr>\n",
       "      <th>33</th>\n",
       "      <td>33</td>\n",
       "      <td>0.856214</td>\n",
       "      <td>36.005268</td>\n",
       "      <td>0.608687</td>\n",
       "      <td>0.000537</td>\n",
       "      <td>0.093548</td>\n",
       "      <td>12</td>\n",
       "      <td>230</td>\n",
       "      <td>1.469967e-05</td>\n",
       "      <td>1.642349e-07</td>\n",
       "      <td>105.134669</td>\n",
       "      <td>0.599318</td>\n",
       "    </tr>\n",
       "    <tr>\n",
       "      <th>52</th>\n",
       "      <td>52</td>\n",
       "      <td>0.856034</td>\n",
       "      <td>29.417917</td>\n",
       "      <td>0.589461</td>\n",
       "      <td>0.000038</td>\n",
       "      <td>0.051690</td>\n",
       "      <td>12</td>\n",
       "      <td>207</td>\n",
       "      <td>2.971884e-04</td>\n",
       "      <td>1.445232e-06</td>\n",
       "      <td>13.880058</td>\n",
       "      <td>0.715677</td>\n",
       "    </tr>\n",
       "    <tr>\n",
       "      <th>40</th>\n",
       "      <td>40</td>\n",
       "      <td>0.855736</td>\n",
       "      <td>36.984444</td>\n",
       "      <td>0.571925</td>\n",
       "      <td>0.002187</td>\n",
       "      <td>0.053236</td>\n",
       "      <td>12</td>\n",
       "      <td>247</td>\n",
       "      <td>2.246529e-05</td>\n",
       "      <td>2.727223e-07</td>\n",
       "      <td>70.784797</td>\n",
       "      <td>0.702379</td>\n",
       "    </tr>\n",
       "    <tr>\n",
       "      <th>51</th>\n",
       "      <td>51</td>\n",
       "      <td>0.855586</td>\n",
       "      <td>37.229996</td>\n",
       "      <td>0.673255</td>\n",
       "      <td>0.000079</td>\n",
       "      <td>0.059578</td>\n",
       "      <td>12</td>\n",
       "      <td>252</td>\n",
       "      <td>9.067750e-03</td>\n",
       "      <td>1.735474e-06</td>\n",
       "      <td>37.222572</td>\n",
       "      <td>0.596101</td>\n",
       "    </tr>\n",
       "    <tr>\n",
       "      <th>43</th>\n",
       "      <td>43</td>\n",
       "      <td>0.855556</td>\n",
       "      <td>33.102077</td>\n",
       "      <td>0.662391</td>\n",
       "      <td>0.000004</td>\n",
       "      <td>0.096324</td>\n",
       "      <td>12</td>\n",
       "      <td>219</td>\n",
       "      <td>3.623670e-05</td>\n",
       "      <td>1.622275e-07</td>\n",
       "      <td>70.042091</td>\n",
       "      <td>0.712222</td>\n",
       "    </tr>\n",
       "    <tr>\n",
       "      <th>55</th>\n",
       "      <td>55</td>\n",
       "      <td>0.854400</td>\n",
       "      <td>37.931911</td>\n",
       "      <td>0.486956</td>\n",
       "      <td>0.000069</td>\n",
       "      <td>0.074117</td>\n",
       "      <td>12</td>\n",
       "      <td>192</td>\n",
       "      <td>9.744576e-05</td>\n",
       "      <td>2.319193e-05</td>\n",
       "      <td>577.876016</td>\n",
       "      <td>0.720659</td>\n",
       "    </tr>\n",
       "    <tr>\n",
       "      <th>36</th>\n",
       "      <td>36</td>\n",
       "      <td>0.854391</td>\n",
       "      <td>34.995710</td>\n",
       "      <td>0.528618</td>\n",
       "      <td>0.000046</td>\n",
       "      <td>0.082888</td>\n",
       "      <td>7</td>\n",
       "      <td>234</td>\n",
       "      <td>1.236158e-08</td>\n",
       "      <td>1.065615e-05</td>\n",
       "      <td>125.428736</td>\n",
       "      <td>0.609396</td>\n",
       "    </tr>\n",
       "    <tr>\n",
       "      <th>39</th>\n",
       "      <td>39</td>\n",
       "      <td>0.854164</td>\n",
       "      <td>35.504418</td>\n",
       "      <td>0.500403</td>\n",
       "      <td>0.000011</td>\n",
       "      <td>0.058312</td>\n",
       "      <td>12</td>\n",
       "      <td>207</td>\n",
       "      <td>5.661906e-06</td>\n",
       "      <td>8.214892e-05</td>\n",
       "      <td>142.010756</td>\n",
       "      <td>0.637165</td>\n",
       "    </tr>\n",
       "    <tr>\n",
       "      <th>37</th>\n",
       "      <td>37</td>\n",
       "      <td>0.854094</td>\n",
       "      <td>35.610333</td>\n",
       "      <td>0.639829</td>\n",
       "      <td>0.000070</td>\n",
       "      <td>0.096651</td>\n",
       "      <td>11</td>\n",
       "      <td>214</td>\n",
       "      <td>6.013261e-07</td>\n",
       "      <td>1.489709e-05</td>\n",
       "      <td>387.002499</td>\n",
       "      <td>0.788861</td>\n",
       "    </tr>\n",
       "    <tr>\n",
       "      <th>60</th>\n",
       "      <td>60</td>\n",
       "      <td>0.853839</td>\n",
       "      <td>38.357784</td>\n",
       "      <td>0.579086</td>\n",
       "      <td>0.000088</td>\n",
       "      <td>0.089225</td>\n",
       "      <td>12</td>\n",
       "      <td>228</td>\n",
       "      <td>1.892452e-04</td>\n",
       "      <td>4.119967e-07</td>\n",
       "      <td>302.300661</td>\n",
       "      <td>0.704081</td>\n",
       "    </tr>\n",
       "  </tbody>\n",
       "</table>\n",
       "</div>"
      ],
      "text/plain": [
       "    number    auc_pr   duration  params_colsample_bytree  params_gamma  \\\n",
       "33      33  0.856214  36.005268                 0.608687      0.000537   \n",
       "52      52  0.856034  29.417917                 0.589461      0.000038   \n",
       "40      40  0.855736  36.984444                 0.571925      0.002187   \n",
       "51      51  0.855586  37.229996                 0.673255      0.000079   \n",
       "43      43  0.855556  33.102077                 0.662391      0.000004   \n",
       "55      55  0.854400  37.931911                 0.486956      0.000069   \n",
       "36      36  0.854391  34.995710                 0.528618      0.000046   \n",
       "39      39  0.854164  35.504418                 0.500403      0.000011   \n",
       "37      37  0.854094  35.610333                 0.639829      0.000070   \n",
       "60      60  0.853839  38.357784                 0.579086      0.000088   \n",
       "\n",
       "    params_learning_rate  params_max_depth  params_n_estimators  \\\n",
       "33              0.093548                12                  230   \n",
       "52              0.051690                12                  207   \n",
       "40              0.053236                12                  247   \n",
       "51              0.059578                12                  252   \n",
       "43              0.096324                12                  219   \n",
       "55              0.074117                12                  192   \n",
       "36              0.082888                 7                  234   \n",
       "39              0.058312                12                  207   \n",
       "37              0.096651                11                  214   \n",
       "60              0.089225                12                  228   \n",
       "\n",
       "    params_reg_alpha  params_reg_lambda  params_scale_pos_weight  \\\n",
       "33      1.469967e-05       1.642349e-07               105.134669   \n",
       "52      2.971884e-04       1.445232e-06                13.880058   \n",
       "40      2.246529e-05       2.727223e-07                70.784797   \n",
       "51      9.067750e-03       1.735474e-06                37.222572   \n",
       "43      3.623670e-05       1.622275e-07                70.042091   \n",
       "55      9.744576e-05       2.319193e-05               577.876016   \n",
       "36      1.236158e-08       1.065615e-05               125.428736   \n",
       "39      5.661906e-06       8.214892e-05               142.010756   \n",
       "37      6.013261e-07       1.489709e-05               387.002499   \n",
       "60      1.892452e-04       4.119967e-07               302.300661   \n",
       "\n",
       "    params_subsample  \n",
       "33          0.599318  \n",
       "52          0.715677  \n",
       "40          0.702379  \n",
       "51          0.596101  \n",
       "43          0.712222  \n",
       "55          0.720659  \n",
       "36          0.609396  \n",
       "39          0.637165  \n",
       "37          0.788861  \n",
       "60          0.704081  "
      ]
     },
     "execution_count": 12,
     "metadata": {},
     "output_type": "execute_result"
    }
   ],
   "source": [
    "# summarize results\n",
    "results = study.trials_dataframe(attrs=('number','value', 'duration', 'params'))\n",
    "results = results.rename(columns={'value':'auc_pr'})\n",
    "results['duration'] = results['duration']/np.timedelta64(1, 's')\n",
    "results = results.sort_values(by='auc_pr',ascending=False)\n",
    "results.to_csv('cv_auc_pr_history.csv',index=False)\n",
    "# print the top 10 results\n",
    "results.head(10)"
   ]
  },
  {
   "cell_type": "markdown",
   "id": "eaf4ee42",
   "metadata": {
    "papermill": {
     "duration": 0.010897,
     "end_time": "2023-10-31T04:30:39.253752",
     "exception": false,
     "start_time": "2023-10-31T04:30:39.242855",
     "status": "completed"
    },
    "tags": []
   },
   "source": [
    "### Visualizing optuna trials\n",
    "\n",
    "Optuna has some tools for visualizing the optimization progress, as well as assessing the importance of the individual hyperparameters on the cross-validation objective (see https://optuna.readthedocs.io/en/stable/reference/generated/optuna.importance.FanovaImportanceEvaluator.html and http://proceedings.mlr.press/v32/hutter14.html for more details). "
   ]
  },
  {
   "cell_type": "code",
   "execution_count": 13,
   "id": "b0e1fcdd",
   "metadata": {
    "execution": {
     "iopub.execute_input": "2023-10-31T04:30:39.277180Z",
     "iopub.status.busy": "2023-10-31T04:30:39.276775Z",
     "iopub.status.idle": "2023-10-31T04:30:39.831588Z",
     "shell.execute_reply": "2023-10-31T04:30:39.830608Z"
    },
    "papermill": {
     "duration": 0.569501,
     "end_time": "2023-10-31T04:30:39.834451",
     "exception": false,
     "start_time": "2023-10-31T04:30:39.264950",
     "status": "completed"
    },
    "tags": []
   },
   "outputs": [],
   "source": [
    "from optuna.visualization import plot_optimization_history, plot_param_importances"
   ]
  },
  {
   "cell_type": "code",
   "execution_count": 14,
   "id": "c3806c86",
   "metadata": {
    "execution": {
     "iopub.execute_input": "2023-10-31T04:30:39.859063Z",
     "iopub.status.busy": "2023-10-31T04:30:39.858663Z",
     "iopub.status.idle": "2023-10-31T04:30:40.308688Z",
     "shell.execute_reply": "2023-10-31T04:30:40.307694Z"
    },
    "papermill": {
     "duration": 0.464758,
     "end_time": "2023-10-31T04:30:40.310885",
     "exception": false,
     "start_time": "2023-10-31T04:30:39.846127",
     "status": "completed"
    },
    "tags": []
   },
   "outputs": [
    {
     "data": {
      "text/html": [
       "        <script type=\"text/javascript\">\n",
       "        window.PlotlyConfig = {MathJaxConfig: 'local'};\n",
       "        if (window.MathJax && window.MathJax.Hub && window.MathJax.Hub.Config) {window.MathJax.Hub.Config({SVG: {font: \"STIX-Web\"}});}\n",
       "        if (typeof require !== 'undefined') {\n",
       "        require.undef(\"plotly\");\n",
       "        requirejs.config({\n",
       "            paths: {\n",
       "                'plotly': ['https://cdn.plot.ly/plotly-2.24.1.min']\n",
       "            }\n",
       "        });\n",
       "        require(['plotly'], function(Plotly) {\n",
       "            window._Plotly = Plotly;\n",
       "        });\n",
       "        }\n",
       "        </script>\n",
       "        "
      ]
     },
     "metadata": {},
     "output_type": "display_data"
    },
    {
     "data": {
      "text/html": [
       "<div>                            <div id=\"7407a6ca-2928-43fe-9312-81a9738ce6cb\" class=\"plotly-graph-div\" style=\"height:600px; width:800px;\"></div>            <script type=\"text/javascript\">                require([\"plotly\"], function(Plotly) {                    window.PLOTLYENV=window.PLOTLYENV || {};                                    if (document.getElementById(\"7407a6ca-2928-43fe-9312-81a9738ce6cb\")) {                    Plotly.newPlot(                        \"7407a6ca-2928-43fe-9312-81a9738ce6cb\",                        [{\"mode\":\"markers\",\"name\":\"AUC-PR\",\"x\":[0,1,2,3,4,5,6,7,8,9,10,11,12,13,14,15,16,17,18,19,20,21,22,23,24,25,26,27,28,29,30,31,32,33,34,35,36,37,38,39,40,41,42,43,44,45,46,47,48,49,50,51,52,53,54,55,56,57,58,59,60,61],\"y\":[0.7129327841842938,0.7622316177829072,0.8122220358175918,0.7874329427280484,0.8496445657767463,0.7725575477633426,0.7453267797444475,0.7519015016400379,0.7930906761771869,0.7703120723282597,0.8392157679687486,0.8382322283087913,0.8427857797846592,0.8504550454186054,0.777295581229396,0.8447570112267322,0.4456495863339393,0.8483533352907271,0.8464419500378444,0.8459167786381494,0.8498343718849449,0.8485921291765693,0.8485188414256379,0.84557648052087,0.8441104510557983,0.8507004000134017,0.8525434805371596,0.8524766266764686,0.8440146170357309,0.8520845762792607,0.8531529580121499,0.8517693175612147,0.8522052702197624,0.8562143433155311,0.8441924530829817,0.8483682824590935,0.8543907727660643,0.854094127779006,0.8500518827880823,0.8541639331630251,0.8557356706986579,0.7953804472538961,0.8494952225733631,0.8555559445732891,0.8532842981851122,0.8514957352476872,0.8530292378815465,0.8529313038577889,0.852698801622067,0.8518743716186034,0.8426339410171524,0.855585590167539,0.8560338319810692,0.8511632083559695,0.8472420245633305,0.8544002382461073,0.8529696357321257,0.5944181152139294,0.839486105820219,0.8423773888340731,0.8538393214325042,0.8468455023286758],\"type\":\"scatter\"},{\"mode\":\"lines\",\"name\":\"Best Value\",\"x\":[0,1,2,3,4,5,6,7,8,9,10,11,12,13,14,15,16,17,18,19,20,21,22,23,24,25,26,27,28,29,30,31,32,33,34,35,36,37,38,39,40,41,42,43,44,45,46,47,48,49,50,51,52,53,54,55,56,57,58,59,60,61],\"y\":[0.7129327841842938,0.7622316177829072,0.8122220358175918,0.8122220358175918,0.8496445657767463,0.8496445657767463,0.8496445657767463,0.8496445657767463,0.8496445657767463,0.8496445657767463,0.8496445657767463,0.8496445657767463,0.8496445657767463,0.8504550454186054,0.8504550454186054,0.8504550454186054,0.8504550454186054,0.8504550454186054,0.8504550454186054,0.8504550454186054,0.8504550454186054,0.8504550454186054,0.8504550454186054,0.8504550454186054,0.8504550454186054,0.8507004000134017,0.8525434805371596,0.8525434805371596,0.8525434805371596,0.8525434805371596,0.8531529580121499,0.8531529580121499,0.8531529580121499,0.8562143433155311,0.8562143433155311,0.8562143433155311,0.8562143433155311,0.8562143433155311,0.8562143433155311,0.8562143433155311,0.8562143433155311,0.8562143433155311,0.8562143433155311,0.8562143433155311,0.8562143433155311,0.8562143433155311,0.8562143433155311,0.8562143433155311,0.8562143433155311,0.8562143433155311,0.8562143433155311,0.8562143433155311,0.8562143433155311,0.8562143433155311,0.8562143433155311,0.8562143433155311,0.8562143433155311,0.8562143433155311,0.8562143433155311,0.8562143433155311,0.8562143433155311,0.8562143433155311],\"type\":\"scatter\"},{\"marker\":{\"color\":\"#cccccc\"},\"mode\":\"markers\",\"name\":\"Infeasible Trial\",\"showlegend\":false,\"x\":[],\"y\":[],\"type\":\"scatter\"}],                        {\"title\":{\"text\":\"Optimization History Plot\"},\"xaxis\":{\"title\":{\"text\":\"Trial\"}},\"yaxis\":{\"title\":{\"text\":\"AUC-PR\"}},\"template\":{\"data\":{\"histogram2dcontour\":[{\"type\":\"histogram2dcontour\",\"colorbar\":{\"outlinewidth\":0,\"ticks\":\"\"},\"colorscale\":[[0.0,\"#0d0887\"],[0.1111111111111111,\"#46039f\"],[0.2222222222222222,\"#7201a8\"],[0.3333333333333333,\"#9c179e\"],[0.4444444444444444,\"#bd3786\"],[0.5555555555555556,\"#d8576b\"],[0.6666666666666666,\"#ed7953\"],[0.7777777777777778,\"#fb9f3a\"],[0.8888888888888888,\"#fdca26\"],[1.0,\"#f0f921\"]]}],\"choropleth\":[{\"type\":\"choropleth\",\"colorbar\":{\"outlinewidth\":0,\"ticks\":\"\"}}],\"histogram2d\":[{\"type\":\"histogram2d\",\"colorbar\":{\"outlinewidth\":0,\"ticks\":\"\"},\"colorscale\":[[0.0,\"#0d0887\"],[0.1111111111111111,\"#46039f\"],[0.2222222222222222,\"#7201a8\"],[0.3333333333333333,\"#9c179e\"],[0.4444444444444444,\"#bd3786\"],[0.5555555555555556,\"#d8576b\"],[0.6666666666666666,\"#ed7953\"],[0.7777777777777778,\"#fb9f3a\"],[0.8888888888888888,\"#fdca26\"],[1.0,\"#f0f921\"]]}],\"heatmap\":[{\"type\":\"heatmap\",\"colorbar\":{\"outlinewidth\":0,\"ticks\":\"\"},\"colorscale\":[[0.0,\"#0d0887\"],[0.1111111111111111,\"#46039f\"],[0.2222222222222222,\"#7201a8\"],[0.3333333333333333,\"#9c179e\"],[0.4444444444444444,\"#bd3786\"],[0.5555555555555556,\"#d8576b\"],[0.6666666666666666,\"#ed7953\"],[0.7777777777777778,\"#fb9f3a\"],[0.8888888888888888,\"#fdca26\"],[1.0,\"#f0f921\"]]}],\"heatmapgl\":[{\"type\":\"heatmapgl\",\"colorbar\":{\"outlinewidth\":0,\"ticks\":\"\"},\"colorscale\":[[0.0,\"#0d0887\"],[0.1111111111111111,\"#46039f\"],[0.2222222222222222,\"#7201a8\"],[0.3333333333333333,\"#9c179e\"],[0.4444444444444444,\"#bd3786\"],[0.5555555555555556,\"#d8576b\"],[0.6666666666666666,\"#ed7953\"],[0.7777777777777778,\"#fb9f3a\"],[0.8888888888888888,\"#fdca26\"],[1.0,\"#f0f921\"]]}],\"contourcarpet\":[{\"type\":\"contourcarpet\",\"colorbar\":{\"outlinewidth\":0,\"ticks\":\"\"}}],\"contour\":[{\"type\":\"contour\",\"colorbar\":{\"outlinewidth\":0,\"ticks\":\"\"},\"colorscale\":[[0.0,\"#0d0887\"],[0.1111111111111111,\"#46039f\"],[0.2222222222222222,\"#7201a8\"],[0.3333333333333333,\"#9c179e\"],[0.4444444444444444,\"#bd3786\"],[0.5555555555555556,\"#d8576b\"],[0.6666666666666666,\"#ed7953\"],[0.7777777777777778,\"#fb9f3a\"],[0.8888888888888888,\"#fdca26\"],[1.0,\"#f0f921\"]]}],\"surface\":[{\"type\":\"surface\",\"colorbar\":{\"outlinewidth\":0,\"ticks\":\"\"},\"colorscale\":[[0.0,\"#0d0887\"],[0.1111111111111111,\"#46039f\"],[0.2222222222222222,\"#7201a8\"],[0.3333333333333333,\"#9c179e\"],[0.4444444444444444,\"#bd3786\"],[0.5555555555555556,\"#d8576b\"],[0.6666666666666666,\"#ed7953\"],[0.7777777777777778,\"#fb9f3a\"],[0.8888888888888888,\"#fdca26\"],[1.0,\"#f0f921\"]]}],\"mesh3d\":[{\"type\":\"mesh3d\",\"colorbar\":{\"outlinewidth\":0,\"ticks\":\"\"}}],\"scatter\":[{\"fillpattern\":{\"fillmode\":\"overlay\",\"size\":10,\"solidity\":0.2},\"type\":\"scatter\"}],\"parcoords\":[{\"type\":\"parcoords\",\"line\":{\"colorbar\":{\"outlinewidth\":0,\"ticks\":\"\"}}}],\"scatterpolargl\":[{\"type\":\"scatterpolargl\",\"marker\":{\"colorbar\":{\"outlinewidth\":0,\"ticks\":\"\"}}}],\"bar\":[{\"error_x\":{\"color\":\"#2a3f5f\"},\"error_y\":{\"color\":\"#2a3f5f\"},\"marker\":{\"line\":{\"color\":\"#E5ECF6\",\"width\":0.5},\"pattern\":{\"fillmode\":\"overlay\",\"size\":10,\"solidity\":0.2}},\"type\":\"bar\"}],\"scattergeo\":[{\"type\":\"scattergeo\",\"marker\":{\"colorbar\":{\"outlinewidth\":0,\"ticks\":\"\"}}}],\"scatterpolar\":[{\"type\":\"scatterpolar\",\"marker\":{\"colorbar\":{\"outlinewidth\":0,\"ticks\":\"\"}}}],\"histogram\":[{\"marker\":{\"pattern\":{\"fillmode\":\"overlay\",\"size\":10,\"solidity\":0.2}},\"type\":\"histogram\"}],\"scattergl\":[{\"type\":\"scattergl\",\"marker\":{\"colorbar\":{\"outlinewidth\":0,\"ticks\":\"\"}}}],\"scatter3d\":[{\"type\":\"scatter3d\",\"line\":{\"colorbar\":{\"outlinewidth\":0,\"ticks\":\"\"}},\"marker\":{\"colorbar\":{\"outlinewidth\":0,\"ticks\":\"\"}}}],\"scattermapbox\":[{\"type\":\"scattermapbox\",\"marker\":{\"colorbar\":{\"outlinewidth\":0,\"ticks\":\"\"}}}],\"scatterternary\":[{\"type\":\"scatterternary\",\"marker\":{\"colorbar\":{\"outlinewidth\":0,\"ticks\":\"\"}}}],\"scattercarpet\":[{\"type\":\"scattercarpet\",\"marker\":{\"colorbar\":{\"outlinewidth\":0,\"ticks\":\"\"}}}],\"carpet\":[{\"aaxis\":{\"endlinecolor\":\"#2a3f5f\",\"gridcolor\":\"white\",\"linecolor\":\"white\",\"minorgridcolor\":\"white\",\"startlinecolor\":\"#2a3f5f\"},\"baxis\":{\"endlinecolor\":\"#2a3f5f\",\"gridcolor\":\"white\",\"linecolor\":\"white\",\"minorgridcolor\":\"white\",\"startlinecolor\":\"#2a3f5f\"},\"type\":\"carpet\"}],\"table\":[{\"cells\":{\"fill\":{\"color\":\"#EBF0F8\"},\"line\":{\"color\":\"white\"}},\"header\":{\"fill\":{\"color\":\"#C8D4E3\"},\"line\":{\"color\":\"white\"}},\"type\":\"table\"}],\"barpolar\":[{\"marker\":{\"line\":{\"color\":\"#E5ECF6\",\"width\":0.5},\"pattern\":{\"fillmode\":\"overlay\",\"size\":10,\"solidity\":0.2}},\"type\":\"barpolar\"}],\"pie\":[{\"automargin\":true,\"type\":\"pie\"}]},\"layout\":{\"autotypenumbers\":\"strict\",\"colorway\":[\"#636efa\",\"#EF553B\",\"#00cc96\",\"#ab63fa\",\"#FFA15A\",\"#19d3f3\",\"#FF6692\",\"#B6E880\",\"#FF97FF\",\"#FECB52\"],\"font\":{\"color\":\"#2a3f5f\"},\"hovermode\":\"closest\",\"hoverlabel\":{\"align\":\"left\"},\"paper_bgcolor\":\"white\",\"plot_bgcolor\":\"#E5ECF6\",\"polar\":{\"bgcolor\":\"#E5ECF6\",\"angularaxis\":{\"gridcolor\":\"white\",\"linecolor\":\"white\",\"ticks\":\"\"},\"radialaxis\":{\"gridcolor\":\"white\",\"linecolor\":\"white\",\"ticks\":\"\"}},\"ternary\":{\"bgcolor\":\"#E5ECF6\",\"aaxis\":{\"gridcolor\":\"white\",\"linecolor\":\"white\",\"ticks\":\"\"},\"baxis\":{\"gridcolor\":\"white\",\"linecolor\":\"white\",\"ticks\":\"\"},\"caxis\":{\"gridcolor\":\"white\",\"linecolor\":\"white\",\"ticks\":\"\"}},\"coloraxis\":{\"colorbar\":{\"outlinewidth\":0,\"ticks\":\"\"}},\"colorscale\":{\"sequential\":[[0.0,\"#0d0887\"],[0.1111111111111111,\"#46039f\"],[0.2222222222222222,\"#7201a8\"],[0.3333333333333333,\"#9c179e\"],[0.4444444444444444,\"#bd3786\"],[0.5555555555555556,\"#d8576b\"],[0.6666666666666666,\"#ed7953\"],[0.7777777777777778,\"#fb9f3a\"],[0.8888888888888888,\"#fdca26\"],[1.0,\"#f0f921\"]],\"sequentialminus\":[[0.0,\"#0d0887\"],[0.1111111111111111,\"#46039f\"],[0.2222222222222222,\"#7201a8\"],[0.3333333333333333,\"#9c179e\"],[0.4444444444444444,\"#bd3786\"],[0.5555555555555556,\"#d8576b\"],[0.6666666666666666,\"#ed7953\"],[0.7777777777777778,\"#fb9f3a\"],[0.8888888888888888,\"#fdca26\"],[1.0,\"#f0f921\"]],\"diverging\":[[0,\"#8e0152\"],[0.1,\"#c51b7d\"],[0.2,\"#de77ae\"],[0.3,\"#f1b6da\"],[0.4,\"#fde0ef\"],[0.5,\"#f7f7f7\"],[0.6,\"#e6f5d0\"],[0.7,\"#b8e186\"],[0.8,\"#7fbc41\"],[0.9,\"#4d9221\"],[1,\"#276419\"]]},\"xaxis\":{\"gridcolor\":\"white\",\"linecolor\":\"white\",\"ticks\":\"\",\"title\":{\"standoff\":15},\"zerolinecolor\":\"white\",\"automargin\":true,\"zerolinewidth\":2},\"yaxis\":{\"gridcolor\":\"white\",\"linecolor\":\"white\",\"ticks\":\"\",\"title\":{\"standoff\":15},\"zerolinecolor\":\"white\",\"automargin\":true,\"zerolinewidth\":2},\"scene\":{\"xaxis\":{\"backgroundcolor\":\"#E5ECF6\",\"gridcolor\":\"white\",\"linecolor\":\"white\",\"showbackground\":true,\"ticks\":\"\",\"zerolinecolor\":\"white\",\"gridwidth\":2},\"yaxis\":{\"backgroundcolor\":\"#E5ECF6\",\"gridcolor\":\"white\",\"linecolor\":\"white\",\"showbackground\":true,\"ticks\":\"\",\"zerolinecolor\":\"white\",\"gridwidth\":2},\"zaxis\":{\"backgroundcolor\":\"#E5ECF6\",\"gridcolor\":\"white\",\"linecolor\":\"white\",\"showbackground\":true,\"ticks\":\"\",\"zerolinecolor\":\"white\",\"gridwidth\":2}},\"shapedefaults\":{\"line\":{\"color\":\"#2a3f5f\"}},\"annotationdefaults\":{\"arrowcolor\":\"#2a3f5f\",\"arrowhead\":0,\"arrowwidth\":1},\"geo\":{\"bgcolor\":\"white\",\"landcolor\":\"#E5ECF6\",\"subunitcolor\":\"white\",\"showland\":true,\"showlakes\":true,\"lakecolor\":\"white\"},\"title\":{\"x\":0.05},\"mapbox\":{\"style\":\"light\"}}},\"autosize\":true,\"width\":800,\"height\":600},                        {\"responsive\": true}                    ).then(function(){\n",
       "                            \n",
       "var gd = document.getElementById('7407a6ca-2928-43fe-9312-81a9738ce6cb');\n",
       "var x = new MutationObserver(function (mutations, observer) {{\n",
       "        var display = window.getComputedStyle(gd).display;\n",
       "        if (!display || display === 'none') {{\n",
       "            console.log([gd, 'removed!']);\n",
       "            Plotly.purge(gd);\n",
       "            observer.disconnect();\n",
       "        }}\n",
       "}});\n",
       "\n",
       "// Listen for the removal of the full notebook cells\n",
       "var notebookContainer = gd.closest('#notebook-container');\n",
       "if (notebookContainer) {{\n",
       "    x.observe(notebookContainer, {childList: true});\n",
       "}}\n",
       "\n",
       "// Listen for the clearing of the current output cell\n",
       "var outputEl = gd.closest('.output');\n",
       "if (outputEl) {{\n",
       "    x.observe(outputEl, {childList: true});\n",
       "}}\n",
       "\n",
       "                        })                };                });            </script>        </div>"
      ]
     },
     "metadata": {},
     "output_type": "display_data"
    }
   ],
   "source": [
    "fig = plot_optimization_history(study, target_name='AUC-PR')\n",
    "\n",
    "fig.update_layout(\n",
    "    autosize=True,\n",
    "    width=800,\n",
    "    height=600\n",
    ")\n",
    "fig.show()"
   ]
  },
  {
   "cell_type": "code",
   "execution_count": 15,
   "id": "4b4aabe9",
   "metadata": {
    "execution": {
     "iopub.execute_input": "2023-10-31T04:30:40.334646Z",
     "iopub.status.busy": "2023-10-31T04:30:40.334213Z",
     "iopub.status.idle": "2023-10-31T04:30:41.480977Z",
     "shell.execute_reply": "2023-10-31T04:30:41.479872Z"
    },
    "papermill": {
     "duration": 1.160466,
     "end_time": "2023-10-31T04:30:41.482765",
     "exception": false,
     "start_time": "2023-10-31T04:30:40.322299",
     "status": "completed"
    },
    "tags": []
   },
   "outputs": [
    {
     "data": {
      "text/html": [
       "<div>                            <div id=\"a3aaa4e0-189a-4011-a1b9-dcaf41dfd9e4\" class=\"plotly-graph-div\" style=\"height:600px; width:800px;\"></div>            <script type=\"text/javascript\">                require([\"plotly\"], function(Plotly) {                    window.PLOTLYENV=window.PLOTLYENV || {};                                    if (document.getElementById(\"a3aaa4e0-189a-4011-a1b9-dcaf41dfd9e4\")) {                    Plotly.newPlot(                        \"a3aaa4e0-189a-4011-a1b9-dcaf41dfd9e4\",                        [{\"cliponaxis\":false,\"hovertemplate\":[\"gamma (FloatDistribution): 2.194527176890494e-06\\u003cextra\\u003e\\u003c\\u002fextra\\u003e\",\"colsample_bytree (FloatDistribution): 0.0038649516834656835\\u003cextra\\u003e\\u003c\\u002fextra\\u003e\",\"reg_alpha (FloatDistribution): 0.00727116928074591\\u003cextra\\u003e\\u003c\\u002fextra\\u003e\",\"reg_lambda (FloatDistribution): 0.01454652739659401\\u003cextra\\u003e\\u003c\\u002fextra\\u003e\",\"n_estimators (IntDistribution): 0.03356056566404402\\u003cextra\\u003e\\u003c\\u002fextra\\u003e\",\"max_depth (IntDistribution): 0.09505655661426483\\u003cextra\\u003e\\u003c\\u002fextra\\u003e\",\"scale_pos_weight (FloatDistribution): 0.0991998454253438\\u003cextra\\u003e\\u003c\\u002fextra\\u003e\",\"subsample (FloatDistribution): 0.11428230614381234\\u003cextra\\u003e\\u003c\\u002fextra\\u003e\",\"learning_rate (FloatDistribution): 0.6322158832645527\\u003cextra\\u003e\\u003c\\u002fextra\\u003e\"],\"marker\":{\"color\":\"rgb(66,146,198)\"},\"orientation\":\"h\",\"text\":[\"\\u003c0.01\",\"\\u003c0.01\",\"\\u003c0.01\",\"0.01\",\"0.03\",\"0.10\",\"0.10\",\"0.11\",\"0.63\"],\"textposition\":\"outside\",\"x\":[2.194527176890494e-6,0.0038649516834656835,0.00727116928074591,0.01454652739659401,0.03356056566404402,0.09505655661426483,0.0991998454253438,0.11428230614381234,0.6322158832645527],\"y\":[\"gamma\",\"colsample_bytree\",\"reg_alpha\",\"reg_lambda\",\"n_estimators\",\"max_depth\",\"scale_pos_weight\",\"subsample\",\"learning_rate\"],\"type\":\"bar\"}],                        {\"showlegend\":false,\"title\":{\"text\":\"Hyperparameter Importances\"},\"xaxis\":{\"title\":{\"text\":\"Importance for Objective Value\"}},\"yaxis\":{\"title\":{\"text\":\"Hyperparameter\"}},\"template\":{\"data\":{\"histogram2dcontour\":[{\"type\":\"histogram2dcontour\",\"colorbar\":{\"outlinewidth\":0,\"ticks\":\"\"},\"colorscale\":[[0.0,\"#0d0887\"],[0.1111111111111111,\"#46039f\"],[0.2222222222222222,\"#7201a8\"],[0.3333333333333333,\"#9c179e\"],[0.4444444444444444,\"#bd3786\"],[0.5555555555555556,\"#d8576b\"],[0.6666666666666666,\"#ed7953\"],[0.7777777777777778,\"#fb9f3a\"],[0.8888888888888888,\"#fdca26\"],[1.0,\"#f0f921\"]]}],\"choropleth\":[{\"type\":\"choropleth\",\"colorbar\":{\"outlinewidth\":0,\"ticks\":\"\"}}],\"histogram2d\":[{\"type\":\"histogram2d\",\"colorbar\":{\"outlinewidth\":0,\"ticks\":\"\"},\"colorscale\":[[0.0,\"#0d0887\"],[0.1111111111111111,\"#46039f\"],[0.2222222222222222,\"#7201a8\"],[0.3333333333333333,\"#9c179e\"],[0.4444444444444444,\"#bd3786\"],[0.5555555555555556,\"#d8576b\"],[0.6666666666666666,\"#ed7953\"],[0.7777777777777778,\"#fb9f3a\"],[0.8888888888888888,\"#fdca26\"],[1.0,\"#f0f921\"]]}],\"heatmap\":[{\"type\":\"heatmap\",\"colorbar\":{\"outlinewidth\":0,\"ticks\":\"\"},\"colorscale\":[[0.0,\"#0d0887\"],[0.1111111111111111,\"#46039f\"],[0.2222222222222222,\"#7201a8\"],[0.3333333333333333,\"#9c179e\"],[0.4444444444444444,\"#bd3786\"],[0.5555555555555556,\"#d8576b\"],[0.6666666666666666,\"#ed7953\"],[0.7777777777777778,\"#fb9f3a\"],[0.8888888888888888,\"#fdca26\"],[1.0,\"#f0f921\"]]}],\"heatmapgl\":[{\"type\":\"heatmapgl\",\"colorbar\":{\"outlinewidth\":0,\"ticks\":\"\"},\"colorscale\":[[0.0,\"#0d0887\"],[0.1111111111111111,\"#46039f\"],[0.2222222222222222,\"#7201a8\"],[0.3333333333333333,\"#9c179e\"],[0.4444444444444444,\"#bd3786\"],[0.5555555555555556,\"#d8576b\"],[0.6666666666666666,\"#ed7953\"],[0.7777777777777778,\"#fb9f3a\"],[0.8888888888888888,\"#fdca26\"],[1.0,\"#f0f921\"]]}],\"contourcarpet\":[{\"type\":\"contourcarpet\",\"colorbar\":{\"outlinewidth\":0,\"ticks\":\"\"}}],\"contour\":[{\"type\":\"contour\",\"colorbar\":{\"outlinewidth\":0,\"ticks\":\"\"},\"colorscale\":[[0.0,\"#0d0887\"],[0.1111111111111111,\"#46039f\"],[0.2222222222222222,\"#7201a8\"],[0.3333333333333333,\"#9c179e\"],[0.4444444444444444,\"#bd3786\"],[0.5555555555555556,\"#d8576b\"],[0.6666666666666666,\"#ed7953\"],[0.7777777777777778,\"#fb9f3a\"],[0.8888888888888888,\"#fdca26\"],[1.0,\"#f0f921\"]]}],\"surface\":[{\"type\":\"surface\",\"colorbar\":{\"outlinewidth\":0,\"ticks\":\"\"},\"colorscale\":[[0.0,\"#0d0887\"],[0.1111111111111111,\"#46039f\"],[0.2222222222222222,\"#7201a8\"],[0.3333333333333333,\"#9c179e\"],[0.4444444444444444,\"#bd3786\"],[0.5555555555555556,\"#d8576b\"],[0.6666666666666666,\"#ed7953\"],[0.7777777777777778,\"#fb9f3a\"],[0.8888888888888888,\"#fdca26\"],[1.0,\"#f0f921\"]]}],\"mesh3d\":[{\"type\":\"mesh3d\",\"colorbar\":{\"outlinewidth\":0,\"ticks\":\"\"}}],\"scatter\":[{\"fillpattern\":{\"fillmode\":\"overlay\",\"size\":10,\"solidity\":0.2},\"type\":\"scatter\"}],\"parcoords\":[{\"type\":\"parcoords\",\"line\":{\"colorbar\":{\"outlinewidth\":0,\"ticks\":\"\"}}}],\"scatterpolargl\":[{\"type\":\"scatterpolargl\",\"marker\":{\"colorbar\":{\"outlinewidth\":0,\"ticks\":\"\"}}}],\"bar\":[{\"error_x\":{\"color\":\"#2a3f5f\"},\"error_y\":{\"color\":\"#2a3f5f\"},\"marker\":{\"line\":{\"color\":\"#E5ECF6\",\"width\":0.5},\"pattern\":{\"fillmode\":\"overlay\",\"size\":10,\"solidity\":0.2}},\"type\":\"bar\"}],\"scattergeo\":[{\"type\":\"scattergeo\",\"marker\":{\"colorbar\":{\"outlinewidth\":0,\"ticks\":\"\"}}}],\"scatterpolar\":[{\"type\":\"scatterpolar\",\"marker\":{\"colorbar\":{\"outlinewidth\":0,\"ticks\":\"\"}}}],\"histogram\":[{\"marker\":{\"pattern\":{\"fillmode\":\"overlay\",\"size\":10,\"solidity\":0.2}},\"type\":\"histogram\"}],\"scattergl\":[{\"type\":\"scattergl\",\"marker\":{\"colorbar\":{\"outlinewidth\":0,\"ticks\":\"\"}}}],\"scatter3d\":[{\"type\":\"scatter3d\",\"line\":{\"colorbar\":{\"outlinewidth\":0,\"ticks\":\"\"}},\"marker\":{\"colorbar\":{\"outlinewidth\":0,\"ticks\":\"\"}}}],\"scattermapbox\":[{\"type\":\"scattermapbox\",\"marker\":{\"colorbar\":{\"outlinewidth\":0,\"ticks\":\"\"}}}],\"scatterternary\":[{\"type\":\"scatterternary\",\"marker\":{\"colorbar\":{\"outlinewidth\":0,\"ticks\":\"\"}}}],\"scattercarpet\":[{\"type\":\"scattercarpet\",\"marker\":{\"colorbar\":{\"outlinewidth\":0,\"ticks\":\"\"}}}],\"carpet\":[{\"aaxis\":{\"endlinecolor\":\"#2a3f5f\",\"gridcolor\":\"white\",\"linecolor\":\"white\",\"minorgridcolor\":\"white\",\"startlinecolor\":\"#2a3f5f\"},\"baxis\":{\"endlinecolor\":\"#2a3f5f\",\"gridcolor\":\"white\",\"linecolor\":\"white\",\"minorgridcolor\":\"white\",\"startlinecolor\":\"#2a3f5f\"},\"type\":\"carpet\"}],\"table\":[{\"cells\":{\"fill\":{\"color\":\"#EBF0F8\"},\"line\":{\"color\":\"white\"}},\"header\":{\"fill\":{\"color\":\"#C8D4E3\"},\"line\":{\"color\":\"white\"}},\"type\":\"table\"}],\"barpolar\":[{\"marker\":{\"line\":{\"color\":\"#E5ECF6\",\"width\":0.5},\"pattern\":{\"fillmode\":\"overlay\",\"size\":10,\"solidity\":0.2}},\"type\":\"barpolar\"}],\"pie\":[{\"automargin\":true,\"type\":\"pie\"}]},\"layout\":{\"autotypenumbers\":\"strict\",\"colorway\":[\"#636efa\",\"#EF553B\",\"#00cc96\",\"#ab63fa\",\"#FFA15A\",\"#19d3f3\",\"#FF6692\",\"#B6E880\",\"#FF97FF\",\"#FECB52\"],\"font\":{\"color\":\"#2a3f5f\"},\"hovermode\":\"closest\",\"hoverlabel\":{\"align\":\"left\"},\"paper_bgcolor\":\"white\",\"plot_bgcolor\":\"#E5ECF6\",\"polar\":{\"bgcolor\":\"#E5ECF6\",\"angularaxis\":{\"gridcolor\":\"white\",\"linecolor\":\"white\",\"ticks\":\"\"},\"radialaxis\":{\"gridcolor\":\"white\",\"linecolor\":\"white\",\"ticks\":\"\"}},\"ternary\":{\"bgcolor\":\"#E5ECF6\",\"aaxis\":{\"gridcolor\":\"white\",\"linecolor\":\"white\",\"ticks\":\"\"},\"baxis\":{\"gridcolor\":\"white\",\"linecolor\":\"white\",\"ticks\":\"\"},\"caxis\":{\"gridcolor\":\"white\",\"linecolor\":\"white\",\"ticks\":\"\"}},\"coloraxis\":{\"colorbar\":{\"outlinewidth\":0,\"ticks\":\"\"}},\"colorscale\":{\"sequential\":[[0.0,\"#0d0887\"],[0.1111111111111111,\"#46039f\"],[0.2222222222222222,\"#7201a8\"],[0.3333333333333333,\"#9c179e\"],[0.4444444444444444,\"#bd3786\"],[0.5555555555555556,\"#d8576b\"],[0.6666666666666666,\"#ed7953\"],[0.7777777777777778,\"#fb9f3a\"],[0.8888888888888888,\"#fdca26\"],[1.0,\"#f0f921\"]],\"sequentialminus\":[[0.0,\"#0d0887\"],[0.1111111111111111,\"#46039f\"],[0.2222222222222222,\"#7201a8\"],[0.3333333333333333,\"#9c179e\"],[0.4444444444444444,\"#bd3786\"],[0.5555555555555556,\"#d8576b\"],[0.6666666666666666,\"#ed7953\"],[0.7777777777777778,\"#fb9f3a\"],[0.8888888888888888,\"#fdca26\"],[1.0,\"#f0f921\"]],\"diverging\":[[0,\"#8e0152\"],[0.1,\"#c51b7d\"],[0.2,\"#de77ae\"],[0.3,\"#f1b6da\"],[0.4,\"#fde0ef\"],[0.5,\"#f7f7f7\"],[0.6,\"#e6f5d0\"],[0.7,\"#b8e186\"],[0.8,\"#7fbc41\"],[0.9,\"#4d9221\"],[1,\"#276419\"]]},\"xaxis\":{\"gridcolor\":\"white\",\"linecolor\":\"white\",\"ticks\":\"\",\"title\":{\"standoff\":15},\"zerolinecolor\":\"white\",\"automargin\":true,\"zerolinewidth\":2},\"yaxis\":{\"gridcolor\":\"white\",\"linecolor\":\"white\",\"ticks\":\"\",\"title\":{\"standoff\":15},\"zerolinecolor\":\"white\",\"automargin\":true,\"zerolinewidth\":2},\"scene\":{\"xaxis\":{\"backgroundcolor\":\"#E5ECF6\",\"gridcolor\":\"white\",\"linecolor\":\"white\",\"showbackground\":true,\"ticks\":\"\",\"zerolinecolor\":\"white\",\"gridwidth\":2},\"yaxis\":{\"backgroundcolor\":\"#E5ECF6\",\"gridcolor\":\"white\",\"linecolor\":\"white\",\"showbackground\":true,\"ticks\":\"\",\"zerolinecolor\":\"white\",\"gridwidth\":2},\"zaxis\":{\"backgroundcolor\":\"#E5ECF6\",\"gridcolor\":\"white\",\"linecolor\":\"white\",\"showbackground\":true,\"ticks\":\"\",\"zerolinecolor\":\"white\",\"gridwidth\":2}},\"shapedefaults\":{\"line\":{\"color\":\"#2a3f5f\"}},\"annotationdefaults\":{\"arrowcolor\":\"#2a3f5f\",\"arrowhead\":0,\"arrowwidth\":1},\"geo\":{\"bgcolor\":\"white\",\"landcolor\":\"#E5ECF6\",\"subunitcolor\":\"white\",\"showland\":true,\"showlakes\":true,\"lakecolor\":\"white\"},\"title\":{\"x\":0.05},\"mapbox\":{\"style\":\"light\"}}},\"autosize\":true,\"width\":800,\"height\":600},                        {\"responsive\": true}                    ).then(function(){\n",
       "                            \n",
       "var gd = document.getElementById('a3aaa4e0-189a-4011-a1b9-dcaf41dfd9e4');\n",
       "var x = new MutationObserver(function (mutations, observer) {{\n",
       "        var display = window.getComputedStyle(gd).display;\n",
       "        if (!display || display === 'none') {{\n",
       "            console.log([gd, 'removed!']);\n",
       "            Plotly.purge(gd);\n",
       "            observer.disconnect();\n",
       "        }}\n",
       "}});\n",
       "\n",
       "// Listen for the removal of the full notebook cells\n",
       "var notebookContainer = gd.closest('#notebook-container');\n",
       "if (notebookContainer) {{\n",
       "    x.observe(notebookContainer, {childList: true});\n",
       "}}\n",
       "\n",
       "// Listen for the clearing of the current output cell\n",
       "var outputEl = gd.closest('.output');\n",
       "if (outputEl) {{\n",
       "    x.observe(outputEl, {childList: true});\n",
       "}}\n",
       "\n",
       "                        })                };                });            </script>        </div>"
      ]
     },
     "metadata": {},
     "output_type": "display_data"
    }
   ],
   "source": [
    "# TODO: verify if these can be trusted for a small number of trials\n",
    "fig = plot_param_importances(study)\n",
    "\n",
    "fig.update_layout(\n",
    "    autosize=True,\n",
    "    width=800,\n",
    "    height=600\n",
    ")\n",
    "fig.show()"
   ]
  },
  {
   "cell_type": "markdown",
   "id": "303ff2ec",
   "metadata": {
    "papermill": {
     "duration": 0.012928,
     "end_time": "2023-10-31T04:30:41.507618",
     "exception": false,
     "start_time": "2023-10-31T04:30:41.494690",
     "status": "completed"
    },
    "tags": []
   },
   "source": [
    "## Final model"
   ]
  },
  {
   "cell_type": "code",
   "execution_count": 16,
   "id": "64eeb8b8",
   "metadata": {
    "execution": {
     "iopub.execute_input": "2023-10-31T04:30:41.535675Z",
     "iopub.status.busy": "2023-10-31T04:30:41.535296Z",
     "iopub.status.idle": "2023-10-31T04:30:49.943587Z",
     "shell.execute_reply": "2023-10-31T04:30:49.942589Z"
    },
    "papermill": {
     "duration": 8.424975,
     "end_time": "2023-10-31T04:30:49.945852",
     "exception": false,
     "start_time": "2023-10-31T04:30:41.520877",
     "status": "completed"
    },
    "tags": []
   },
   "outputs": [],
   "source": [
    "model = fit_model(X, y, study.best_params, n_jobs=4)\n",
    "model.save_model('xgboost_fraud.json')"
   ]
  },
  {
   "cell_type": "markdown",
   "id": "f640528c",
   "metadata": {
    "papermill": {
     "duration": 0.012074,
     "end_time": "2023-10-31T04:30:49.969674",
     "exception": false,
     "start_time": "2023-10-31T04:30:49.957600",
     "status": "completed"
    },
    "tags": []
   },
   "source": [
    "## Evaulate on test set"
   ]
  },
  {
   "cell_type": "code",
   "execution_count": 17,
   "id": "59be28fb",
   "metadata": {
    "execution": {
     "iopub.execute_input": "2023-10-31T04:30:49.995561Z",
     "iopub.status.busy": "2023-10-31T04:30:49.995238Z",
     "iopub.status.idle": "2023-10-31T04:30:50.181932Z",
     "shell.execute_reply": "2023-10-31T04:30:50.180869Z"
    },
    "papermill": {
     "duration": 0.201662,
     "end_time": "2023-10-31T04:30:50.184487",
     "exception": false,
     "start_time": "2023-10-31T04:30:49.982825",
     "status": "completed"
    },
    "tags": []
   },
   "outputs": [
    {
     "name": "stdout",
     "output_type": "stream",
     "text": [
      "Area under PR curve for test set: 0.905\n"
     ]
    }
   ],
   "source": [
    "test_pred_prob = model.predict_proba(X_test)[:, 1]\n",
    "test_auc_pr = auc_pr(y_test, test_pred_prob)\n",
    "print(f'Area under PR curve for test set: {test_auc_pr:.3f}')"
   ]
  },
  {
   "cell_type": "markdown",
   "id": "1242f2d8",
   "metadata": {
    "papermill": {
     "duration": 0.011827,
     "end_time": "2023-10-31T04:30:50.208553",
     "exception": false,
     "start_time": "2023-10-31T04:30:50.196726",
     "status": "completed"
    },
    "tags": []
   },
   "source": [
    "### Precision-recall curves"
   ]
  },
  {
   "cell_type": "code",
   "execution_count": 18,
   "id": "5d2b4a6c",
   "metadata": {
    "execution": {
     "iopub.execute_input": "2023-10-31T04:30:50.234221Z",
     "iopub.status.busy": "2023-10-31T04:30:50.233897Z",
     "iopub.status.idle": "2023-10-31T04:30:51.232927Z",
     "shell.execute_reply": "2023-10-31T04:30:51.231949Z"
    },
    "papermill": {
     "duration": 1.013554,
     "end_time": "2023-10-31T04:30:51.234775",
     "exception": false,
     "start_time": "2023-10-31T04:30:50.221221",
     "status": "completed"
    },
    "tags": []
   },
   "outputs": [
    {
     "data": {
      "image/png": "[encoded data removed]",
      "text/plain": [
       "<Figure size 960x720 with 1 Axes>"
      ]
     },
     "metadata": {},
     "output_type": "display_data"
    }
   ],
   "source": [
    "train_pred_prob = model.predict_proba(X)[:, 1]\n",
    "\n",
    "def plot_prc(name, labels, predictions, **kwargs):\n",
    "    precision, recall, _ = precision_recall_curve(labels, predictions)\n",
    "\n",
    "    plt.plot(recall, precision, label=name, linewidth=2, **kwargs)\n",
    "    plt.ylabel('Precision')\n",
    "    plt.xlabel('Recall')\n",
    "    plt.grid(True)\n",
    "    ax = plt.gca()\n",
    "    ax.set_aspect('equal')\n",
    "\n",
    "plot_prc(\"Training\", y, train_pred_prob)\n",
    "plot_prc(\"Test\", y_test, test_pred_prob)\n",
    "plt.legend(loc='lower left');"
   ]
  },
  {
   "cell_type": "markdown",
   "id": "f5e17a62",
   "metadata": {
    "papermill": {
     "duration": 0.011476,
     "end_time": "2023-10-31T04:30:51.258573",
     "exception": false,
     "start_time": "2023-10-31T04:30:51.247097",
     "status": "completed"
    },
    "tags": []
   },
   "source": [
    "### Confusion matrix\n",
    "\n",
    "Finally, we evaulate the confusion matrix on the test set to generate the classes. The threshold should be chosen carefully depending on the business needs. For example, not identifying a fradulent transaction is typically considered more costly than raising a false alarm - the loss can also include other fraudulent transactions carried out on the compromised card."
   ]
  },
  {
   "cell_type": "code",
   "execution_count": 19,
   "id": "fadc80a0",
   "metadata": {
    "execution": {
     "iopub.execute_input": "2023-10-31T04:30:51.283586Z",
     "iopub.status.busy": "2023-10-31T04:30:51.283262Z",
     "iopub.status.idle": "2023-10-31T04:30:52.114830Z",
     "shell.execute_reply": "2023-10-31T04:30:52.113863Z"
    },
    "papermill": {
     "duration": 0.847112,
     "end_time": "2023-10-31T04:30:52.117281",
     "exception": false,
     "start_time": "2023-10-31T04:30:51.270169",
     "status": "completed"
    },
    "tags": []
   },
   "outputs": [
    {
     "data": {
      "image/png": "[encoded data removed]",
      "text/plain": [
       "<Figure size 2025x600 with 6 Axes>"
      ]
     },
     "metadata": {},
     "output_type": "display_data"
    }
   ],
   "source": [
    "thresholds = [0.01, 0.1, 0.5]\n",
    "\n",
    "fig, axs = plt.subplots(1, len(thresholds), figsize=(4.5*len(thresholds), 4))\n",
    "for i, threshold in enumerate(thresholds):\n",
    "    _ = sns.heatmap(confusion_matrix(y_test, test_pred_prob > threshold), annot=True, ax=axs[i])\n",
    "    _ = axs[i].set_ylabel('Actual')\n",
    "    _ = axs[i].set_xlabel('Predicted')\n",
    "    _ = axs[i].set_title(f'Confusion matrix @ {threshold}')\n",
    "    \n",
    "fig.tight_layout()\n",
    "\n"
   ]
  }
 ],
 "metadata": {
  "kernelspec": {
   "display_name": "Python 3",
   "language": "python",
   "name": "python3"
  },
  "language_info": {
   "codemirror_mode": {
    "name": "ipython",
    "version": 3
   },
   "file_extension": ".py",
   "mimetype": "text/x-python",
   "name": "python",
   "nbconvert_exporter": "python",
   "pygments_lexer": "ipython3",
   "version": "3.10.12"
  },
  "papermill": {
   "default_parameters": {},
   "duration": 1857.121565,
   "end_time": "2023-10-31T04:30:53.657050",
   "environment_variables": {},
   "exception": null,
   "input_path": "__notebook__.ipynb",
   "output_path": "__notebook__.ipynb",
   "parameters": {},
   "start_time": "2023-10-31T03:59:56.535485",
   "version": "2.4.0"
  }
 },
 "nbformat": 4,
 "nbformat_minor": 5
}
